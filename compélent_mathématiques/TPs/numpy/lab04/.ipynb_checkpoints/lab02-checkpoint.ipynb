{
 "cells": [
  {
   "cell_type": "code",
   "execution_count": null,
   "metadata": {
    "deletable": false,
    "editable": false
   },
   "outputs": [],
   "source": [
    "# Initialize OK\n",
    "from client.api.notebook import Notebook\n",
    "ok = Notebook('lab02.ok')"
   ]
  },
  {
   "cell_type": "markdown",
   "metadata": {},
   "source": [
    "# Lab 2: Derivative-free methods\n",
    "\n",
    "This assignment is composed of 8 exercises divided in three parts: grid search, random search, and cross-entropy method. For each solved exercise, you get the points indicated below. You need to score at least **9 points** (out of 15) to pass the assignment."
   ]
  },
  {
   "cell_type": "markdown",
   "metadata": {},
   "source": [
    "## Instruction\n",
    "\n",
    " - Download a copy of this notebook from [Blackboard](https://esiee.blackboard.com/).\n",
    " \n",
    " \n",
    " - Run `jupyter notebook` on your computer, and open the `.ipynb` file that you just downloaded.\n",
    "\n",
    "\n",
    " - Solve the quizzes by filling in the cells with your solutions. \n",
    " \n",
    " \n",
    " - Check your answer by running the unit test provided at the end of each quiz.\n",
    " \n",
    " \n",
    " - **Get your work checked before leaving the lab, otherwise you won't get any credit for it.**"
   ]
  },
  {
   "cell_type": "markdown",
   "metadata": {},
   "source": [
    "## Grading\n",
    "\n",
    "- **Part 1.** Grid search (3 points in total)\n",
    "\n",
    "| Exercise | Topic | Points |\n",
    "|----------|------|--------|\n",
    "| Quiz 1.1 | Uniform sampling | 1 |\n",
    "| Quiz 1.2 | Sum of squared errors | 1 |\n",
    "| Quiz 1.3 | Grid search | 1 |\n",
    "\n",
    "\n",
    "- **Part 2.** Random search (6 points in total)\n",
    "\n",
    "| Exercise | Topic | Points |\n",
    "|----------|------|--------|\n",
    "| Quiz 2.1 | Circular sampling | 2 |\n",
    "| Quiz 2.2 | Steepest direction | 2 |\n",
    "| Quiz 2.3 | Random search | 2 |\n",
    "\n",
    "\n",
    "- **Part 3.** Cross-entropy method (6 points in total)\n",
    "\n",
    "| Exercise | Topic | Points |\n",
    "|----------|------|--------|\n",
    "| Quiz 3.1 | Elite statistics | 3 |\n",
    "| Quiz 3.2 | Cross-entropy method | 3 |"
   ]
  },
  {
   "cell_type": "markdown",
   "metadata": {},
   "source": [
    "## Required packages\n",
    "\n",
    "For this assignment, you need to import the following packages.\n",
    "- [**Numpy**](www.numpy.org) - The library for scientific computing in Python.\n",
    "- [**Matplotlib**](http://matplotlib.org) - The library for plotting graphs in Python.\n",
    "\n",
    "<!--\n",
    "- [**Autograd**](https://github.com/HIPS/autograd) - The library for automatic differentiation of Numpy code.\n",
    "-->"
   ]
  },
  {
   "cell_type": "code",
   "execution_count": 1,
   "metadata": {},
   "outputs": [],
   "source": [
    "import numpy as np\n",
    "import matplotlib.pyplot as plt"
   ]
  },
  {
   "cell_type": "markdown",
   "metadata": {},
   "source": [
    "## Part 1. Grid search"
   ]
  },
  {
   "cell_type": "markdown",
   "metadata": {},
   "source": [
    "### Quiz 1.1\n",
    "\n",
    "> **Implement a function that uniformly samples a 2D rectangular domain $[x_\\min,x_\\max]\\times[y_\\min,y_\\max]$.** \n",
    "\n",
    "> The function takes the following inputs:\n",
    ">\n",
    ">- `x_min`, `x_max` - The boundaries for the x-axis.\n",
    ">\n",
    ">- `y_min`, `y_max` - The boundaries for the y-axis.\n",
    ">\n",
    ">- `num_samples` - The number of points to be sampled. \n",
    ">\n",
    ">Moreover, the function returns one output:\n",
    ">\n",
    ">- `grid` - A matrix of shape `(num_samples,2)` containing the points on the sampled grid."
   ]
  },
  {
   "cell_type": "code",
   "execution_count": 2,
   "metadata": {
    "nbgrader": {
     "grade": false,
     "grade_id": "cell-7e38a4bcfc208fb9",
     "locked": false,
     "schema_version": 1,
     "solution": true
    },
    "tags": [
     "quiz",
     "uniform_sampling"
    ]
   },
   "outputs": [],
   "source": [
    "def uniform_sampling(num_samples, x_min, x_max, y_min, y_max):\n",
    "    \"\"\"\n",
    "    Uniformly sample a 2D grid of points.\n",
    "    \n",
    "    Argument:\n",
    "    num_samples -- integer, the number of points to be sampled\n",
    "    x_min -- scalar, minimum value on the x-axis\n",
    "    x_max -- scalar, maximum value on the x-axis\n",
    "    y_min -- scalar, minimum value on the y-axis\n",
    "    y_max -- scalar, maximum value on the y-axis\n",
    "    \n",
    "    Returns:\n",
    "    grid -- matrix of shape (num_samples, 2)\n",
    "    \"\"\"\n",
    "    \n",
    "    # Number of samples for each axis\n",
    "    n = int(np.ceil(np.sqrt(num_samples)))\n",
    "        \n",
    "    ###===== YOUR CODE HERE =====###\n",
    "    \n",
    "    # Sample the x-axis. \n",
    "    # Hint: use np.linspace\n",
    "    x_ticks = None # YOUR CODE HERE\n",
    "    \n",
    "    # Sample the y-axis.\n",
    "    # Hint: use np.linspace\n",
    "    y_ticks = None # YOUR CODE HERE\n",
    "    \n",
    "    # Generate the 2D grid. \n",
    "    # Hint: use np.meshgrid\n",
    "    ... # YOUR CODE HERE\n",
    "    \n",
    "    # Assemble a matrix with the grid points as its rows.\n",
    "    # Hint 1: use np.stack(..., axis=1)\n",
    "    # Hint 2: don't forget to flatten the arrays with the method .ravel()\n",
    "    grid = None # YOUR CODE HERE\n",
    "        \n",
    "    return grid"
   ]
  },
  {
   "cell_type": "code",
   "execution_count": null,
   "metadata": {
    "deletable": false,
    "editable": false
   },
   "outputs": [],
   "source": [
    "ok.grade(\"uniform_sampling\");"
   ]
  },
  {
   "cell_type": "markdown",
   "metadata": {},
   "source": [
    "### Quiz 1.2\n",
    "\n",
    "> **Implement a function that evaluates the cost $J(a,b)$ defined as follows:**\n",
    ">\n",
    "> $$ J(a,b) = \\sum_{p=1}^P \\big( a x_p + b - y_p \\big)^2. $$\n",
    ">\n",
    "> where the points $(x_1,y_1),\\dots,(x_P,y_P)$ are given.\n",
    "\n",
    "> The function takes the following inputs:\n",
    ">\n",
    ">- `w` - A vector holding the parameters $a$ and $b$.\n",
    ">\n",
    ">- `x` - A vector holding the x-coordinates $x_1,\\dots,x_P$.\n",
    ">\n",
    ">- `y` - A vector holding the y-coordinates $y_1,\\dots,y_P$.\n",
    ">\n",
    ">Moreover, the function returns one output:\n",
    ">\n",
    ">- `cost` - Mean squared error (scalar)."
   ]
  },
  {
   "cell_type": "code",
   "execution_count": 4,
   "metadata": {
    "nbgrader": {
     "grade": false,
     "grade_id": "cell-45f53b6000fc454e",
     "locked": false,
     "schema_version": 1,
     "solution": true
    },
    "tags": [
     "quiz",
     "sse_cost"
    ]
   },
   "outputs": [],
   "source": [
    "def sse_cost(w, x, y):\n",
    "    \"\"\"\n",
    "    Evaluate the sum of squared errors.\n",
    "        \n",
    "    Arguments:\n",
    "    w -- vector of shape (2,) | w[0]: slope - w[1]: intercept \n",
    "    x -- vector of shape (n,)\n",
    "    y -- vector of shape (n,)\n",
    "    \n",
    "    Returns:\n",
    "    cost -- scalar, sum of squared error\n",
    "    \"\"\"\n",
    "    \n",
    "    # slope and intercept\n",
    "    a = w[0]\n",
    "    b = w[1]\n",
    "    \n",
    "    ### YOUR CODE HERE ###\n",
    "        \n",
    "    # Evaluate the line 'ax + b' for all the x-coordinates\n",
    "    y_hat = None # YOUR CODE HERE\n",
    "    \n",
    "    # Compute the squared difference with the y-coordinates\n",
    "    sq_err = None # YOUR CODE HERE\n",
    "    \n",
    "    # Compute the sum of squared errors\n",
    "    sse = None # YOUR CODE HERE\n",
    "    \n",
    "    return sse"
   ]
  },
  {
   "cell_type": "code",
   "execution_count": null,
   "metadata": {
    "deletable": false,
    "editable": false
   },
   "outputs": [],
   "source": [
    "ok.grade(\"sse_cost\");"
   ]
  },
  {
   "cell_type": "markdown",
   "metadata": {},
   "source": [
    "### Quiz 1.3\n",
    "\n",
    "> **Implement a function that finds the minimum point of $J({\\bf w})$ via grid search.**\n",
    "\n",
    "> *Hint:* Make use of the functions that you have implemented earlier."
   ]
  },
  {
   "cell_type": "code",
   "execution_count": 6,
   "metadata": {
    "tags": [
     "quiz",
     "grid_search"
    ]
   },
   "outputs": [],
   "source": [
    "def grid_search(cost_fun, w_min, w_max, draws = 1000):\n",
    "    \"\"\"\n",
    "    Find the point that minimizes a cost function with 2 variables.\n",
    "    \n",
    "    Arguments:\n",
    "    cost_fun -- cost function | callable \n",
    "    w_min    -- min values    | vector of shape (2,)\n",
    "    w_max    -- max values    | vector of shape (2,)\n",
    "    draws    -- n. directions | integer\n",
    "    \n",
    "    Returns:\n",
    "    w -- smallest point | vector of shape (2,)\n",
    "    \"\"\"\n",
    "    \n",
    "    # min & max\n",
    "    a_min, b_min = tuple(w_min)\n",
    "    a_max, b_max = tuple(w_max)\n",
    "    \n",
    "    ### YOUR CODE HERE ###\n",
    "    \n",
    "    # Sample the solution space. \n",
    "    # Hint: use your previously implemented function \n",
    "    grid = None # YOUR CODE HERE\n",
    "    \n",
    "    # Evaluate the cost of each point in the grid\n",
    "    # Hint: use a for-loop\n",
    "    costs = None # YOUR CODE HERE\n",
    "    \n",
    "    # Determine the lowest cost. \n",
    "    # Hint: use np.argmin(...)\n",
    "    k = None # YOUR CODE HERE\n",
    "    \n",
    "    # Select the point corresponding to the lowest cost\n",
    "    w = None # YOUR CODE HERE\n",
    "        \n",
    "    return w, grid[np.argsort(costs)[::-1]]"
   ]
  },
  {
   "cell_type": "code",
   "execution_count": null,
   "metadata": {
    "deletable": false,
    "editable": false
   },
   "outputs": [],
   "source": [
    "ok.grade(\"grid_search\");"
   ]
  },
  {
   "cell_type": "markdown",
   "metadata": {},
   "source": [
    "### Example\n",
    "\n",
    "The figure below displays the set of points ${\\bf w}_0, {\\bf w}_1,\\dots, {\\bf w}_K$ sampled by grid search for the line fitting problem."
   ]
  },
  {
   "cell_type": "code",
   "execution_count": 8,
   "metadata": {},
   "outputs": [],
   "source": [
    "def generate_points(N=20, seed=42):\n",
    "    np.random.seed(seed)\n",
    "    x = np.random.rand(N)\n",
    "    y = 0.5*x + 2 + 0.05 * np.random.randn(N)\n",
    "    return x, y\n",
    "\n",
    "def show_history(history, x, y, lines=True):\n",
    "    a_values, b_values = np.meshgrid(np.arange(-1,2.5,0.05), np.arange(1,2.7,0.05))\n",
    "    J_values = np.sum((a_values.flatten()[:,None] * x + b_values.flatten()[:,None] - y)**2, axis=1)\n",
    "    J_values = J_values.reshape(a_values.shape)\n",
    "    fig = plt.figure(figsize=(7,5))\n",
    "    draw_contours(a_values, b_values, J_values)\n",
    "    draw_points(history, lines)\n",
    "    plt.show()\n",
    "    \n",
    "def draw_contours(X, Y, Z):\n",
    "    from matplotlib.colors import LogNorm\n",
    "    cs = plt.contour(X, Y, Z, levels=np.logspace(-1.5,2,9), norm=LogNorm(), alpha=.4, colors = 'k')\n",
    "    plt.clabel(cs, inline=1, fontsize=10)\n",
    "    plt.contourf(X, Y, Z, levels=np.logspace(-1.5,2,9), norm=LogNorm(), cmap='jet', alpha=.4)\n",
    "    \n",
    "def draw_points(history, lines=True):\n",
    "    colorspec = make_colorspec(history)\n",
    "    plt.scatter(history[:,0], history[:,1], color=colorspec, s=80, edgecolor='k', alpha=0.9, zorder=3)\n",
    "    if lines:\n",
    "        plt.plot(history[:,0], history[:,1], color='k', alpha=0.7, linewidth=2, zorder=2)\n",
    "    \n",
    "def make_colorspec(w_hist):\n",
    "    s = np.linspace(0,1,len(w_hist[:round(len(w_hist)/2)]))\n",
    "    s.shape = (len(s),1)\n",
    "    t = np.ones(len(w_hist[round(len(w_hist)/2):]))\n",
    "    t.shape = (len(t),1)\n",
    "    s = np.vstack((s,t))\n",
    "    colorspec = []\n",
    "    colorspec = np.concatenate((s,np.flipud(s)),1)\n",
    "    colorspec = np.concatenate((colorspec,np.zeros((len(s),1))),1)\n",
    "    return colorspec"
   ]
  },
  {
   "cell_type": "code",
   "execution_count": 9,
   "metadata": {},
   "outputs": [],
   "source": [
    "x, y = generate_points()\n",
    "\n",
    "cost = lambda w: sse_cost(w, x, y)\n",
    "w_min = [-0.7, 1.1]\n",
    "w_max = [ 2.2, 2.5]\n",
    "\n",
    "w, history = grid_search(cost, w_min, w_max, draws=200)\n",
    "\n",
    "show_history(history, x, y, lines=False)"
   ]
  },
  {
   "cell_type": "markdown",
   "metadata": {},
   "source": [
    "## Part 2. Random search"
   ]
  },
  {
   "cell_type": "markdown",
   "metadata": {},
   "source": [
    "### Quiz 2.1\n",
    "\n",
    "> **Implement a function that draws vectors from a Gaussian distribution, and normalizes them to have unitary length.**"
   ]
  },
  {
   "cell_type": "code",
   "execution_count": 10,
   "metadata": {
    "tags": [
     "quiz",
     "circular_sampling"
    ]
   },
   "outputs": [],
   "source": [
    "def circular_sampling(size, num_samples):\n",
    "    \"\"\"Sample points on a circumference of unitary radius\n",
    "    \n",
    "    INPUTS:\n",
    "    size        -- integer, (linearized) size of direction vectors\n",
    "    num_samples -- integer, number of directions to be sampled\n",
    "    \n",
    "    OUTPUT:\n",
    "    directions -- matrix of shape (num_samples, size)\n",
    "    \"\"\"\n",
    "    \n",
    "    ### YOUR CODE HERE ###\n",
    "    \n",
    "    # Sample random vectors\n",
    "    # Hint: use np.random.randn()\n",
    "    directions = None # YOUR CODE HERE\n",
    "    \n",
    "    # Compute the norm of each vector \n",
    "    # Hint: use np.linalg.norm()\n",
    "    norms = None # YOUR CODE HERE\n",
    "    \n",
    "    # Divide the vectors by their norms\n",
    "    # Hint: it should automatically use broadcasting.\n",
    "    directions = None # YOUR CODE HERE\n",
    "    \n",
    "    return directions"
   ]
  },
  {
   "cell_type": "code",
   "execution_count": null,
   "metadata": {
    "deletable": false,
    "editable": false
   },
   "outputs": [],
   "source": [
    "ok.grade(\"circular_sampling\");"
   ]
  },
  {
   "cell_type": "markdown",
   "metadata": {},
   "source": [
    "### Quiz 2.2\n",
    "\n",
    "> **Implement a function that selects the steepest descent direction among a set of possible candidates.**"
   ]
  },
  {
   "cell_type": "code",
   "execution_count": 12,
   "metadata": {
    "tags": [
     "quiz",
     "steepest_direction"
    ]
   },
   "outputs": [],
   "source": [
    "def steepest_direction(w, cost_fun, directions, alpha):\n",
    "    \"\"\"Select the steepest descent direction.\n",
    "    \n",
    "    INPUTS:\n",
    "    w          -- current point | vector of shape (size,)\n",
    "    cost_fun   -- cost function | callable \n",
    "    directions -- candidates    | matrix of shape (num_samples, size)\n",
    "    alpha      -- step-size     | scalar\n",
    "    \n",
    "    OUTPUT:\n",
    "    descent -- steepest descent direction | vector of shape (size,)\n",
    "    \"\"\"\n",
    "    \n",
    "    ### YOUR CODE HERE ###\n",
    "    \n",
    "    # Compute all new candidate points\n",
    "    # Hint: it should automatically use broadcasting.\n",
    "    w_candidates = None # YOUR CODE HERE\n",
    "    \n",
    "    # Evaluate all candidates. \n",
    "    # Hint: use 'cost_fun(...)' as the cost function\n",
    "    evals = None # YOUR CODE HERE\n",
    "    \n",
    "    # Find the lowest evaluation\n",
    "    ind = None # YOUR CODE HERE\n",
    "    \n",
    "    # Select the best direction\n",
    "    descent = None # YOUR CODE HERE\n",
    "\n",
    "    return descent"
   ]
  },
  {
   "cell_type": "code",
   "execution_count": null,
   "metadata": {
    "deletable": false,
    "editable": false
   },
   "outputs": [],
   "source": [
    "ok.grade(\"steepest_direction\");"
   ]
  },
  {
   "cell_type": "markdown",
   "metadata": {},
   "source": [
    "### Quiz 2.3\n",
    "\n",
    "> **Implement a function that finds the minimum point of $J({\\bf w})$ via random search.**\n",
    "\n",
    "> *Hint:* Make use of the functions that you have implemented earlier."
   ]
  },
  {
   "cell_type": "code",
   "execution_count": 14,
   "metadata": {
    "tags": [
     "quiz",
     "random_search"
    ]
   },
   "outputs": [],
   "source": [
    "def random_search(w0, cost_fun, draws, alpha, epochs):\n",
    "    \"\"\"Find the point that minimizes the cost function.\n",
    "    \n",
    "    Arguments:\n",
    "    w0       -- initial point | vector of shape (size,)\n",
    "    cost_fun -- cost function | callable \n",
    "    draws    -- n. directions | integer\n",
    "    alpha    -- step-size     | scalar\n",
    "    epochs   -- n. iterations | integer\n",
    "    \n",
    "    \n",
    "    Returns:\n",
    "    w -- final point\n",
    "    \"\"\"\n",
    "    \n",
    "    # initialization\n",
    "    w = w0.copy()\n",
    "    J = cost_fun(w)\n",
    "    \n",
    "    # refinement loop\n",
    "    history = [w]\n",
    "    for k in range(epochs):\n",
    "    \n",
    "        ### YOUR CODE HERE ###\n",
    "        \n",
    "        # Sample random directions\n",
    "        directions = None # YOUR CODE HERE\n",
    "\n",
    "        # Select the steepest descent direction\n",
    "        descent = None # YOUR CODE HERE\n",
    "\n",
    "        # Compute the new candidate point\n",
    "        w_new = None # YOUR CODE HERE\n",
    "\n",
    "        # Evaluate the new candidate point\n",
    "        J_new = None # YOUR CODE HERE\n",
    "\n",
    "        # Move to new point if it's lower on the function\n",
    "        if J_new < J:\n",
    "            w = None # YOUR CODE HERE\n",
    "            J = None # YOUR CODE HERE\n",
    "            history.append(w)\n",
    "        \n",
    "    return w, np.stack(history)"
   ]
  },
  {
   "cell_type": "code",
   "execution_count": null,
   "metadata": {
    "deletable": false,
    "editable": false
   },
   "outputs": [],
   "source": [
    "ok.grade(\"random_search\");"
   ]
  },
  {
   "cell_type": "markdown",
   "metadata": {},
   "source": [
    "### Example\n",
    "\n",
    "The figure below displays the sequence of points ${\\bf w}_0, {\\bf w}_1,\\dots, {\\bf w}_K$ generated by random search for the line fitting problem."
   ]
  },
  {
   "cell_type": "code",
   "execution_count": 16,
   "metadata": {},
   "outputs": [],
   "source": [
    "x, y = generate_points()\n",
    "\n",
    "cost = lambda w: sse_cost(w, x, y)\n",
    "\n",
    "alpha  = 0.1\n",
    "epochs = 30\n",
    "draws  = 10\n",
    "\n",
    "w0 = np.array([0,1.1])\n",
    "\n",
    "w, history = random_search(w0, cost, draws, alpha, epochs)\n",
    "\n",
    "show_history(history, x ,y)"
   ]
  },
  {
   "cell_type": "markdown",
   "metadata": {},
   "source": [
    "## Part 3. Cross-entropy method"
   ]
  },
  {
   "cell_type": "markdown",
   "metadata": {},
   "source": [
    "### Quiz 3.1\n",
    "\n",
    "> **Implement a function that computes the mean and the standard deviation of elite samples.**"
   ]
  },
  {
   "cell_type": "code",
   "execution_count": 17,
   "metadata": {
    "tags": [
     "quiz",
     "elite_statistics"
    ]
   },
   "outputs": [],
   "source": [
    "def elite_statistics(samples, costs, n_elites):\n",
    "    \"\"\"Compute the statistics of the first 'n_elites' samples sorted by the values of 'costs'\n",
    "    \n",
    "    INPUTS:\n",
    "    samples  -- points drawn from the normal distribution | matrix of shape (num_samples, size)\n",
    "    costs    -- values of the function at each sample     | vector of shape (num_samples, ) \n",
    "    n_elites -- number of \"elite\" samples                 | integer\n",
    "    \n",
    "    OUTPUT:\n",
    "    mean -- mean of elite samples | vector of shape (size,)\n",
    "    std  -- std  of elite samples | vector of shape (size,)\n",
    "    \"\"\"\n",
    "        \n",
    "    ### YOUR CODE HERE ###\n",
    "    \n",
    "    # Compute the indices that would sort the costs in ascending order\n",
    "    idx = None # YOUR CODE HERE\n",
    "    \n",
    "    # Take the indices of the first 'n_elites' costs\n",
    "    idx = None # YOUR CODE HERE\n",
    "        \n",
    "    # Select the samples with the lowest costs\n",
    "    elites = None # YOUR CODE HERE\n",
    "    \n",
    "    # Compute the mean and std of 'elites' along the columns \n",
    "    # Hint: use '.mean(axis=...)' and '.std(axis=...)'\n",
    "    mean = None # YOUR CODE HERE\n",
    "    std  = None # YOUR CODE HERE\n",
    "    \n",
    "    return mean, std"
   ]
  },
  {
   "cell_type": "code",
   "execution_count": null,
   "metadata": {
    "deletable": false,
    "editable": false
   },
   "outputs": [],
   "source": [
    "ok.grade(\"elite_statistics\");"
   ]
  },
  {
   "cell_type": "markdown",
   "metadata": {},
   "source": [
    "### Quiz 3.2\n",
    "\n",
    "> **Implement a function that finds the minimum point of $J({\\bf w})$ with the cross-entropy method.**\n",
    "\n",
    "> *Hint:* Make use of the function that you have implemented earlier."
   ]
  },
  {
   "cell_type": "code",
   "execution_count": 19,
   "metadata": {
    "tags": [
     "quiz",
     "cross_entropy"
    ]
   },
   "outputs": [],
   "source": [
    "def cross_entropy_search(w0, cost_fun, draws, alpha, epochs):\n",
    "    \"\"\"Find the point that minimizes the cost function.\n",
    "    \n",
    "    Arguments:\n",
    "    w0       -- initial point | vector of shape (size,)\n",
    "    cost_fun -- cost function | callable \n",
    "    draws    -- n. samples    | integer\n",
    "    alpha    -- step-size     | scalar\n",
    "    epochs   -- n. iterations | integer\n",
    "    \n",
    "    \n",
    "    Returns:\n",
    "    w -- final point\n",
    "    \"\"\"\n",
    "    np.random.seed(42)\n",
    "    \n",
    "    # internal settings\n",
    "    n_elites    = int(draws * 0.2)\n",
    "    init_std    = 5.\n",
    "    extra_std   = 2.\n",
    "    extra_decay = epochs * 0.8\n",
    "    \n",
    "    # probability distribution\n",
    "    mean = w0.copy()\n",
    "    std  = np.ones_like(w0) * init_std\n",
    "    \n",
    "    # initialization\n",
    "    w = w0.copy()\n",
    "    J = cost_fun(w)\n",
    "    \n",
    "    # refinement loop\n",
    "    history = [w]\n",
    "    for k in range(epochs):\n",
    "        \n",
    "        # draw samples\n",
    "        extra   = max(1.0 - k / extra_decay, 0) * extra_std**2\n",
    "        cov     = np.diag(std**2 + extra)\n",
    "        samples = np.random.multivariate_normal(mean, cov, draws)\n",
    "            \n",
    "        ### START CODE HERE ###\n",
    "        \n",
    "        # Evaluate 'cost_fun' on all the samples.\n",
    "        costs = None # YOUR CODE HERE\n",
    "        \n",
    "        # Select the sample with the lowest cost\n",
    "        best = None # YOUR CODE HERE\n",
    "        \n",
    "        # Compute the statistics of elite samples\n",
    "        ... # YOUR CODE HERE\n",
    "        \n",
    "        # Update 'mean' and 'std' with an exponential moving average\n",
    "        mean = None # YOUR CODE HERE\n",
    "        std  = None # YOUR CODE HERE\n",
    "        \n",
    "        ### END CODE HERE ###\n",
    "        \n",
    "        # Track the evolution\n",
    "        history.append(mean)\n",
    "\n",
    "        # Move to the new \"best point\" if it's lower on the function\n",
    "        J_best = costs.min()\n",
    "        if J_best < J:\n",
    "            w = best\n",
    "            J = J_best\n",
    "\n",
    "    return w, np.stack(history)"
   ]
  },
  {
   "cell_type": "code",
   "execution_count": null,
   "metadata": {
    "deletable": false,
    "editable": false
   },
   "outputs": [],
   "source": [
    "ok.grade(\"cross_entropy\");"
   ]
  },
  {
   "cell_type": "markdown",
   "metadata": {},
   "source": [
    "### Example\n",
    "\n",
    "The figure below displays the sequence of points ${\\bf w}_0, {\\bf w}_1,\\dots, {\\bf w}_K$ generated by cross-entropy search for the line fitting problem."
   ]
  },
  {
   "cell_type": "code",
   "execution_count": 21,
   "metadata": {},
   "outputs": [],
   "source": [
    "x, y = generate_points()\n",
    "\n",
    "cost = lambda w: sse_cost(w, x, y)\n",
    "\n",
    "draws  = 50\n",
    "alpha  = 0.1\n",
    "epochs = 40\n",
    "\n",
    "w0 = np.array([0,1.1])\n",
    "\n",
    "w, history = cross_entropy_search(w0, cost, draws, alpha, epochs)\n",
    "\n",
    "show_history(history, x ,y)"
   ]
  }
 ],
 "metadata": {
  "celltoolbar": "Tags",
  "kernelspec": {
   "display_name": "Python 3",
   "language": "python",
   "name": "python3"
  },
  "language_info": {
   "codemirror_mode": {
    "name": "ipython",
    "version": 3
   },
   "file_extension": ".py",
   "mimetype": "text/x-python",
   "name": "python",
   "nbconvert_exporter": "python",
   "pygments_lexer": "ipython3",
   "version": "3.7.3"
  },
  "nbTranslate": {
   "displayLangs": [
    "*"
   ],
   "hotkey": "alt-t",
   "langInMainMenu": true,
   "sourceLang": "en",
   "targetLang": "fr",
   "useGoogleTranslate": true
  }
 },
 "nbformat": 4,
 "nbformat_minor": 2
}
