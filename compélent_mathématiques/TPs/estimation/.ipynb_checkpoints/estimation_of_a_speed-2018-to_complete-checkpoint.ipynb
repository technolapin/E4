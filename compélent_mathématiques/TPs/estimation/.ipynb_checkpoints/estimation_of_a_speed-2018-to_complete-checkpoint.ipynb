{
 "cells": [
  {
   "cell_type": "markdown",
   "metadata": {
    "toc": true
   },
   "source": [
    "<h1>Table of Contents<span class=\"tocSkip\"></span></h1>\n",
    "<div class=\"toc\"><ul class=\"toc-item\"><li><span><a href=\"#Lab-on-estimation-theory\" data-toc-modified-id=\"Lab-on-estimation-theory-1\"><span class=\"toc-item-num\">1&nbsp;&nbsp;</span>Lab on estimation theory</a></span><ul class=\"toc-item\"><li><span><a href=\"#Theoretical-study\" data-toc-modified-id=\"Theoretical-study-1.1\"><span class=\"toc-item-num\">1.1&nbsp;&nbsp;</span>Theoretical study</a></span><ul class=\"toc-item\"><li><span><a href=\"#Solution\" data-toc-modified-id=\"Solution-1.1.1\"><span class=\"toc-item-num\">1.1.1&nbsp;&nbsp;</span>Solution</a></span></li></ul></li></ul></li><li><span><a href=\"#Practical-work\" data-toc-modified-id=\"Practical-work-2\"><span class=\"toc-item-num\">2&nbsp;&nbsp;</span>Practical work</a></span><ul class=\"toc-item\"><li><ul class=\"toc-item\"><li><span><a href=\"#Initialization-of-global-variables-and-constants--\" data-toc-modified-id=\"Initialization-of-global-variables-and-constants---2.0.1\"><span class=\"toc-item-num\">2.0.1&nbsp;&nbsp;</span>Initialization of global variables and constants <a href=\"#glob-init\"></a> <a name=\"glob-init\"></a></a></span></li><li><span><a href=\"#Data-simulation-\" data-toc-modified-id=\"Data-simulation--2.0.2\"><span class=\"toc-item-num\">2.0.2&nbsp;&nbsp;</span>Data simulation <span id=\"datainit\"></span></a></span></li><li><span><a href=\"#Plot-figures--\" data-toc-modified-id=\"Plot-figures---2.0.3\"><span class=\"toc-item-num\">2.0.3&nbsp;&nbsp;</span>Plot figures <a href=\"plot_figs\" target=\"_blank\"></a> <a name=\"plot_figs\"></a></a></span></li><li><span><a href=\"#Maximum-likelihood-criterion--\" data-toc-modified-id=\"Maximum-likelihood-criterion---2.0.4\"><span class=\"toc-item-num\">2.0.4&nbsp;&nbsp;</span>Maximum likelihood criterion <a href=\"ml\" target=\"_blank\"></a> <a name=\"ml\"></a></a></span></li><li><span><a href=\"#MAP-criterion-\" data-toc-modified-id=\"MAP-criterion--2.0.5\"><span class=\"toc-item-num\">2.0.5&nbsp;&nbsp;</span>MAP criterion <a name=\"map\"></a></a></span></li><li><span><a href=\"#Simulation--\" data-toc-modified-id=\"Simulation---2.0.6\"><span class=\"toc-item-num\">2.0.6&nbsp;&nbsp;</span>Simulation <a href=\"simul\" target=\"_blank\"></a> <a name=\"simul\"></a></a></span></li><li><span><a href=\"#Interactive-version--\" data-toc-modified-id=\"Interactive-version---2.0.7\"><span class=\"toc-item-num\">2.0.7&nbsp;&nbsp;</span>Interactive version <a href=\"interactive\" target=\"_blank\"></a> <a name=\"interactive\"></a></a></span></li><li><span><a href=\"#Numerical-optimization-of-the-MAP-criterion---\" data-toc-modified-id=\"Numerical-optimization-of-the-MAP-criterion----2.0.8\"><span class=\"toc-item-num\">2.0.8&nbsp;&nbsp;</span>Numerical optimization of the MAP criterion  <a href=\"#numerical-min\"></a> <a name=\"numerical-min\"></a></a></span></li></ul></li></ul></li></ul></div>"
   ]
  },
  {
   "cell_type": "markdown",
   "metadata": {},
   "source": [
    "# Lab on estimation theory"
   ]
  },
  {
   "cell_type": "markdown",
   "metadata": {},
   "source": [
    "Author: J.-F. Bercher\n",
    "\n",
    "Last update: september 2018"
   ]
  },
  {
   "cell_type": "markdown",
   "metadata": {},
   "source": [
    "The goal of this lab is to illustrate and consolidate some concepts in estimation theory. We consider the problem of estimating a speed from records of the noisy positions of a vehicle. First, we study the problem analytically, then we experiment and study the methods and their performances through simulations.  "
   ]
  },
  {
   "cell_type": "markdown",
   "metadata": {},
   "source": [
    "## Theoretical study\n",
    "The problem at hands is the estimation of the speed of a vehicle from noisy measurements of its positions (in the monodimensional case), according to \n",
    "$$\n",
    "y(t) = st+y_o+w(t),\n",
    "$$\n",
    "with $w(t)$ a white gaussian noise with variance $\\sigma_n^2$. We use $N$ measures. Give the estimators of the different parameters $\\mathbf{\\theta}=\\{s,y_o,\\sigma_n^2\\}$ according to maximum likelihood and maximum a posteriori (in the second case, take a gaussian prior on $s$, a gamma prior on $\\sigma_b^2$ and suppose that $y_o=0$)."
   ]
  },
  {
   "cell_type": "markdown",
   "metadata": {},
   "source": [
    "### Solution\n",
    "The solution is available [here](https://icampus.esiee.fr/mod/resource/view.php?id=1894) or [here](https://esiee.blackboard.com/bbcswebdav/pid-33237-dt-content-rid-34222_1/xid-34222_1). \n",
    "\n",
    "In the experiments below and otherwise indicated we will only consider the even more simple case where $y_o$ is known and equal to zero. In such a case, the formulas simplify (check it!) and we obtain\n",
    "$$\n",
    "s_{ML}=\\frac{\\sum_i y_i t_i}{\\sum_i t_i^2}=\\frac{y^T t}{t^T t}\n",
    "$$\n",
    "and\n",
    "$$\n",
    "\\sigma^2_{ML}=\\frac{1}{N}(y-s_{ML}t)^T(y-s_{ML}t)\n",
    "$$"
   ]
  },
  {
   "cell_type": "markdown",
   "metadata": {},
   "source": [
    "# Practical work\n",
    "The goal of the experimentations is now to implement the two estimators and study their behaviour with respect to the signal to noise ratio, to the number of data and to the priors.\n",
    "\n",
    "Some Python functions are offered below. These functions are incomplete and you are required to complete the missing lines (namely the formulas for the estimators). \n",
    "\n",
    "The scripts use several flags that enable to execute only parts of the code. For instance, the flags `compute_ML` and `compute_MAP`, when True, enable the computations of the ML and MAP estimators, `display_figs=True` enable the display of figures while FIGS=0 forbid this display, `display_results=True` enable to print the numerical results. The scripts are organized as follows:\n",
    "\n",
    "- [Initialization of global variables and constants](#Initialization-of-global-variables-and-constants--)\n",
    "- [Data simulation](#Data-simulation-)\n",
    "- [Plot figures](#Plot-figures--)\n",
    "- [Maximum likelihood criterion](#Maximum-likelihood-criterion--)\n",
    "- [Maximum a posteriori criterion](#MAP-criterion--)\n",
    "- [Simulation](#Simulation--)\n",
    "- [Interactive version](#Interactive-version--)\n",
    "\n",
    "You have to\n",
    "- analyze and understand the different scripts,\n",
    "- complete the scripts [Maximum likelihood criterion](#Maximum-likelihood-criterion--) and [Maximum a posteriori criterion](#MAP-criterion--) at indicated places (and test your additions by running [Simulation](#Simulation--)),\n",
    "- experiment, analyze the results for different values for $N$ and for the signal to noise ratio.\n",
    "\n",
    "For instance, you may test $\\{ N=5,10,15 ~~\\mathrm{SNR}=-10,-5,0,5 \\ldots\\}$ *etc*...\n",
    "\n",
    "\n",
    "In order to find the whole set of unknown parameters, $\\theta=[v,y_o,\\sigma_n^2]$,  when it is not possible to obtain an analytical solution, it is still possible to maximize  *numerically* the ML or MAP criterion  (or minimize the opposite of its logarithm). The script given \n",
    "\n",
    "- [Numerical minimization](#Numerical-optimization-of-the-MAP-criterion---) \n",
    "\n",
    "computes the posterior distribution $p_{\\theta|Y}(\\theta|y)$ for a vector of data $y$. The next scripts then implement the optimization. You may edit the two scripts in order to understand how one can deal with such a problem, then you will experiment, at least so as to acknowledge that it is indeed possible to estimate the whole set of unknown parameters by numerical methods... "
   ]
  },
  {
   "cell_type": "markdown",
   "metadata": {},
   "source": [
    "### Initialization of global variables and constants [](#glob-init) <a name=\"glob-init\"></a>"
   ]
  },
  {
   "cell_type": "code",
   "execution_count": 14,
   "metadata": {},
   "outputs": [],
   "source": [
    "import numpy as np\n",
    "from numpy import pi, sin, cos, exp, sqrt, eye, zeros\n",
    "from numpy.random import randn\n",
    "import matplotlib.pyplot as plt\n",
    "#\n",
    "# Flags : \n",
    "compute_ML = False  # compute ML estimates   \n",
    "compute_MAP = False  # compute MAP estimates\n",
    "display_figs = False  # Display the figures\n",
    "display_results = True  # Display numerical results\n",
    "\n",
    "#clear\n",
    "SNR = -5  #defined as the ratio speed on noise standard deviation (in DB: 10log of ratio)\n",
    "N = 10\n",
    "# nb of points\n",
    "\n",
    "s_theo = 50 * 1000 / 3600\n",
    "# 50 km/h --> conversion in m/s\n",
    "xo = 0\n",
    "yo = xo  # initial position\n",
    "\n",
    "# Variables initialization # UNDERSTAND THIS !!!\n",
    "# ==============================================\n",
    "\n",
    "speed_min = 0\n",
    "speed_max = 120\n",
    "number_speed_values = 1000\n",
    "delta_speed = (speed_max - speed_min) / number_speed_values\n",
    "# list of possible speeds \n",
    "possible_speed = np.linspace(speed_min, speed_max,\n",
    "                             number_speed_values) * 1000 / 3600"
   ]
  },
  {
   "cell_type": "markdown",
   "metadata": {},
   "source": [
    "### Data simulation <span id=\"datainit\"></span>"
   ]
  },
  {
   "cell_type": "code",
   "execution_count": 15,
   "metadata": {},
   "outputs": [],
   "source": [
    "###############################################################\n",
    "#Data simulation\n",
    "###############################################################\n",
    "def data_init(N=N, SNR=SNR):\n",
    "    from numpy.linalg import inv  # inversion of matrix\n",
    "\n",
    "    t = np.arange(N)\n",
    "    x = s_theo * t + xo\n",
    "    #noiseless signal\n",
    "\n",
    "    #gaussian noise\n",
    "    sigma = s_theo * 10**(-SNR / 10)\n",
    "    R = sigma**2 * eye(N)\n",
    "    # uncorrelated gaussian noise\n",
    "    iR = inv(R)\n",
    "    e = sigma * randn(N)\n",
    "\n",
    "    #noisy measurements\n",
    "    y = x + e\n",
    "    # in meters\n",
    "    return x, y, iR, t, sigma"
   ]
  },
  {
   "cell_type": "markdown",
   "metadata": {},
   "source": [
    "### Plot figures [](plot_figs) <a name=\"plot_figs\"></a>"
   ]
  },
  {
   "cell_type": "code",
   "execution_count": 3,
   "metadata": {},
   "outputs": [],
   "source": [
    "def plot_figs(compute_ML, compute_MAP, p_s_if_y, p_y_if_s, ps, s_MAP, s_ML, t,\n",
    "              x, y):\n",
    "    vector_speeds = possible_speed\n",
    "    vector_speeds_ms = vector_speeds * 3.6  # in m/s\n",
    "    plt.figure(1, figsize=(8, 6))\n",
    "    plt.clf()\n",
    "    plt.subplot(211)\n",
    "    plt.plot(t, x, label='Noiseless trajectory')\n",
    "    plt.plot(t, y, label='Noisy trajectory SNR = {}'.format(SNR))\n",
    "    plt.tight_layout()\n",
    "    plt.legend()\n",
    "\n",
    "    if compute_ML:\n",
    "        plt.subplot(212)\n",
    "        plt.plot(vector_speeds_ms, p_y_if_s, label='Likelihood')\n",
    "        plt.title('speed estimate ML = {}'.format(s_ML * 3.6))\n",
    "        plt.tight_layout()\n",
    "        plt.legend()\n",
    "\n",
    "    if compute_MAP:\n",
    "        plt.figure(2, figsize=(8, 6))\n",
    "        plt.clf()\n",
    "        plt.subplot(211)\n",
    "        plt.plot(vector_speeds * 3.6, p_y_if_s, label='likelihood')\n",
    "        plt.plot(vector_speeds_ms, ps, '-r', label='speed prior distribution')\n",
    "        plt.legend()\n",
    "        plt.subplot(212)\n",
    "        plt.plot(vector_speeds * 3.6, p_s_if_y, \n",
    "                 label='A posteriori distribution')\n",
    "        plt.title('MAP estimate= {}'.format(s_MAP * 3.6))\n",
    "        plt.tight_layout()\n",
    "        plt.legend()"
   ]
  },
  {
   "cell_type": "markdown",
   "metadata": {},
   "source": [
    "### Maximum likelihood criterion [](ml) <a name=\"ml\"></a>"
   ]
  },
  {
   "cell_type": "code",
   "execution_count": 40,
   "metadata": {},
   "outputs": [],
   "source": [
    "#*************************************************************\n",
    "# Maximum likelihood criterion \n",
    "#*************************************************************\n",
    "\n",
    "\n",
    "def ML_estimate(y, iR, t):\n",
    "\n",
    "    p_y_if_s = np.zeros((number_speed_values))\n",
    "    for i in np.arange(number_speed_values):\n",
    "        err = y - possible_speed[i] * t - xo\n",
    "        p_y_if_s[i] = exp(-1/2*err.T@iR@err) #!!! REMOVE VALUE AND COMPLETE HERE\n",
    "        \n",
    "    # !!! NORMALISATION COMPLETE HERE\n",
    "    # integration via rectangles, and normalization so that int p_y_if_s=1\n",
    "    p_y_if_s = p_y_if_s / sum(p_y_if_s) # REPLACE THE 1 BY CORRECT NORMALISATION\n",
    "\n",
    "    # Compute the estimate (cf TD)\n",
    "    s_ML = y.T*t/(t.T*t)    #!!! REMOVE VALUE AND COMPLETE HERE         # in m/s\n",
    "    sigma2_ML= 1/(N*(y-s_ML*t).dot(y-s_ML*t))   #!!! REMOVE VALUE AND COMPLETE HERE\n",
    "    print(s_ML)\n",
    "    # max of curve\n",
    "    Ind = np.argmax(p_y_if_s)\n",
    "    #(in km/h)\n",
    "    s_ML_as_argmax = possible_speed[Ind]\n",
    "\n",
    "    return p_y_if_s, s_ML, s_ML_as_argmax, sigma2_ML"
   ]
  },
  {
   "cell_type": "code",
   "execution_count": 41,
   "metadata": {},
   "outputs": [
    {
     "name": "stdout",
     "output_type": "stream",
     "text": [
      "[        nan  6.48623943 -4.89872058 26.6578284  31.07322959  6.552728\n",
      " 18.44340826 11.68322899 10.12014089 14.94285388]\n"
     ]
    },
    {
     "name": "stderr",
     "output_type": "stream",
     "text": [
      "/usr/lib/python3.7/site-packages/ipykernel_launcher.py:18: RuntimeWarning: invalid value encountered in true_divide\n"
     ]
    }
   ],
   "source": [
    "x, y, iR, t, sigma = data_init(N=N, SNR=SNR)\n",
    "p_y_if_s, s_ML, s_ML_as_argmax, sigma2_ML = ML_estimate(y,iR,t)"
   ]
  },
  {
   "cell_type": "markdown",
   "metadata": {},
   "source": [
    "### MAP criterion <a name=\"map\"></a>"
   ]
  },
  {
   "cell_type": "code",
   "execution_count": 22,
   "metadata": {},
   "outputs": [],
   "source": [
    "#*************************************************************\n",
    "# MAP criterion\n",
    "#************************************************************\n",
    "\n",
    "\n",
    "def MAP_estimate(y, iR, t, sigma):\n",
    "\n",
    "    # a priori distribution: speed with Gaussian distribution centered on  50 km/h\n",
    "    s0 = 50 / 3.6\n",
    "    sigmas = 5 / 3.6\n",
    "    ps = exp(-(possible_speed - s0)**2 / (2 * sigmas**2))\n",
    "    ps = ps / (delta_speed * np.sum(ps))\n",
    "\n",
    "    # likelihood \n",
    "    p_y_if_s = np.zeros((number_speed_values))\n",
    "    for i in np.arange(number_speed_values):\n",
    "        p_y_if_s=np.zeros((number_speed_values)) #!!! REMOVE VALUE AND COMPLETE HERE\n",
    "        err = y - possible_speed[i] * t - xo\n",
    "        \n",
    "    # !!! NORMALISATION COMPLETE HERE\n",
    "    # integration via rectangles, and normalization so that int p_y_if_s=1\n",
    "    p_y_if_s = p_y_if_s / 1 # REPLACE 1 HERE \n",
    "\n",
    "    #a posteriori\n",
    "    p_s_if_y = np.zeros(shape(possible_speed)) #!!! COMPLETE HERE\n",
    "    # !!! NORMALISATION COMPLETE HERE\n",
    "    p_s_if_y = p_s_if_y / 1 # REPLACE 1 HERE !!\n",
    "\n",
    "    # Compute MAP estimate\n",
    "    s_MAP= 0   #!! COMPLETE HERE        # in m/s\n",
    "    \n",
    "    # max of curve\n",
    "    Ind = np.argmax(p_s_if_y)\n",
    "    #(in m/s)\n",
    "    s_MAP_as_argmax = possible_speed[Ind]\n",
    "\n",
    "    return ps, p_s_if_y, p_y_if_s, s_MAP, s_MAP_as_argmax"
   ]
  },
  {
   "cell_type": "markdown",
   "metadata": {},
   "source": [
    "### Simulation [](simul) <a name=\"simul\"></a>"
   ]
  },
  {
   "cell_type": "code",
   "execution_count": 6,
   "metadata": {},
   "outputs": [],
   "source": [
    "def simul(N=N,\n",
    "          SNR=SNR,\n",
    "          compute_ML=compute_ML,\n",
    "          compute_MAP=compute_MAP,\n",
    "          display_results=display_results,\n",
    "          display_figs=display_figs):\n",
    "\n",
    "    x, y, iR, t, sigma = data_init(N=N, SNR=SNR)\n",
    "    ps = np.zeros(number_speed_values)\n",
    "    p_s_if_y = np.zeros(number_speed_values)\n",
    "    p_y_if_s = np.zeros(number_speed_values)\n",
    "    s_MAP = 0\n",
    "    s_ML = 0\n",
    "\n",
    "    if display_results:\n",
    "        print('*****************************************************')\n",
    "        print('Number of points: {} -  SNR={} dB'.format(N, SNR))\n",
    "        print('*****************************************************')\n",
    "\n",
    "    #print('N',N, 'SNR',SNR,'computeML',compute_ML,'computeMAP',compute_MAP, \n",
    "    #      'display_results',display_results, 'display_figs',display_figs) \n",
    "\n",
    "    if compute_ML:\n",
    "        (p_y_if_s, s_ML, s_ML_as_argmax, sigma2_ML) = ML_estimate(y, iR, t)\n",
    "        if display_results:\n",
    "            print(\n",
    "                'Estimate of speed via Maximum Likelihood (formula) : {} (km/h)'.\n",
    "                format(s_ML * 3.6))\n",
    "            print(\n",
    "                'Estimate of speed via Maximum Likelihood (max of curve) {} (km/h)'.\n",
    "                format(s_ML_as_argmax * 3.6))\n",
    "            print(\n",
    "                'Estimate of standard deviation via Maximum Likelihood (formula): {}  '.\n",
    "                format(sigma2_ML))\n",
    "\n",
    "    if compute_MAP:\n",
    "        (ps, p_s_if_y, p_y_if_s, s_MAP, s_MAP_as_argmax) = MAP_estimate(\n",
    "            y, iR, t, sigma)\n",
    "        if display_results:\n",
    "            print('MAP Estimate  (formula): {} (km/h)'.format(s_MAP * 3.6))\n",
    "            print('MAP Estimate (max of curve): {} (km/h)'.format(\n",
    "                s_MAP_as_argmax * 3.6))\n",
    "\n",
    "    if display_figs:\n",
    "        plot_figs(compute_ML, compute_MAP, p_s_if_y, p_y_if_s, ps, s_MAP, s_ML,\n",
    "                  t, x, y)"
   ]
  },
  {
   "cell_type": "code",
   "execution_count": 7,
   "metadata": {},
   "outputs": [
    {
     "name": "stdout",
     "output_type": "stream",
     "text": [
      "*****************************************************\n",
      "Number of points: 20 -  SNR=-15 dB\n",
      "*****************************************************\n"
     ]
    },
    {
     "data": {
      "image/png": "[encoded data removed]",
      "text/plain": [
       "<Figure size 576x432 with 1 Axes>"
      ]
     },
     "metadata": {
      "needs_background": "light"
     },
     "output_type": "display_data"
    }
   ],
   "source": [
    "%matplotlib inline\n",
    "simul(\n",
    "    N=20,\n",
    "    SNR=-15,\n",
    "    compute_ML=False,\n",
    "    compute_MAP=False,\n",
    "    display_results=True,\n",
    "    display_figs=True)"
   ]
  },
  {
   "cell_type": "markdown",
   "metadata": {},
   "source": [
    "### Interactive version [](interactive) <a name=\"interactive\"></a>\n",
    "Using widgets and sliders, it is a bit prettier..."
   ]
  },
  {
   "cell_type": "code",
   "execution_count": 8,
   "metadata": {},
   "outputs": [],
   "source": [
    "%matplotlib inline"
   ]
  },
  {
   "cell_type": "code",
   "execution_count": 9,
   "metadata": {},
   "outputs": [],
   "source": [
    "import ipywidgets"
   ]
  },
  {
   "cell_type": "code",
   "execution_count": 10,
   "metadata": {},
   "outputs": [
    {
     "data": {
      "application/vnd.jupyter.widget-view+json": {
       "model_id": "328a4a82045d4559a34878ec9a486edd",
       "version_major": 2,
       "version_minor": 0
      },
      "text/plain": [
       "VBox(children=(VBox(box_style='success', children=(Box(children=(IntSlider(value=10, description='N', max=200)…"
      ]
     },
     "metadata": {},
     "output_type": "display_data"
    }
   ],
   "source": [
    "if ipywidgets.__version__ > '7':\n",
    "    from ipywidgets import widgets, Layout, Output\n",
    "\n",
    "    # Widgets definition\n",
    "    layout=Layout(width='100%', align='left')\n",
    "\n",
    "    from IPython.display import clear_output, display, HTML\n",
    "    out = widgets.Output() # layout={'border': '1px solid black'}\n",
    "\n",
    "    sliderN=widgets.IntSlider(max=200,min=0,step=1,value=10,description=\"N\")\n",
    "    sliderSNR=widgets.IntSlider(max=40,min=-50,step=1,value=-5,description=\"SNR\")\n",
    "    checkbox_computeML=widgets.Checkbox(value=False,description=\"Compute ML \")\n",
    "    checkbox_computeMAP=widgets.Checkbox(value=False,description=\"Compute MAP\")\n",
    "    checkbox_display_results=widgets.Checkbox(value=True,description=\"Display results: \")\n",
    "    checkbox_display_figs=widgets.Checkbox(value=False,description=\"Display figs: \")\n",
    "    start_button=  widgets.Button(description=\"Start!\")\n",
    "\n",
    "    container_sliders = widgets.Box(children=[sliderN,sliderSNR])\n",
    "\n",
    "    container = widgets.Box(children = [\n",
    "        widgets.VBox(children=[checkbox_computeML,checkbox_computeMAP]),\n",
    "        widgets.VBox([checkbox_display_results,checkbox_display_figs])\n",
    "    ])\n",
    "    container_start_button = widgets.HBox(children=(start_button,))\n",
    "\n",
    "\n",
    "    big_container=widgets.VBox(children=[container_sliders, \n",
    "                                        container,\n",
    "                                        container_start_button],\n",
    "                              layout=Layout(width='70%', align='left'))\n",
    "    big_container.box_style=\"success\"\n",
    "    big_container.width=\"50%\"\n",
    "    big_container.border_radius=20\n",
    "\n",
    "    container_sliders.width=\"100%\"\n",
    "    container_sliders.align=\"end\"\n",
    "\n",
    "    container.width=\"100%\"\n",
    "    container.align=\"center\"\n",
    "\n",
    "    container_start_button.width=\"100%\"\n",
    "    container_start_button.align=\"end\"\n",
    "\n",
    "    @out.capture(clear_output=True, wait=True) \n",
    "    def run_tings(b):\n",
    "        #clear_output(wait=True)\n",
    "        #print(\"Button clicked.\")\n",
    "        compute_ML=checkbox_computeML.value\n",
    "        compute_MAP=checkbox_computeMAP.value\n",
    "        display_figs=checkbox_display_figs.value\n",
    "        display_results=checkbox_display_results.value\n",
    "        N=sliderN.value\n",
    "        SNR=sliderSNR.value   \n",
    "\n",
    "        simul(N, SNR,compute_ML,compute_MAP,display_results, display_figs)\n",
    "        plt.show()\n",
    "\n",
    "    start_button.on_click(run_tings)\n",
    "    sliderN.observe(run_tings,names=[\"value\"])\n",
    "    sliderSNR.observe(run_tings,names=[\"value\"])\n",
    "    checkbox_computeML.observe(run_tings,names=[\"value\"])\n",
    "    checkbox_computeMAP.observe(run_tings,names=[\"value\"])\n",
    "    checkbox_display_figs.observe(run_tings,names=[\"value\"])\n",
    "    checkbox_display_results.observe(run_tings,names=[\"value\"])\n",
    "\n",
    "    display(widgets.VBox([big_container, out]))"
   ]
  },
  {
   "cell_type": "code",
   "execution_count": 11,
   "metadata": {},
   "outputs": [],
   "source": [
    "if ipywidgets.__version__ < '7':\n",
    "    from ipywidgets import widgets, Layout, Output\n",
    "\n",
    "    # Widgets definition\n",
    "    layout=Layout(width='100%', align='left')\n",
    "\n",
    "    from IPython.display import clear_output, display, HTML\n",
    "    out = widgets.Output() # layout={'border': '1px solid black'}\n",
    "\n",
    "    sliderN=widgets.IntSlider(max=200,min=0,step=1,value=10,description=\"N\")\n",
    "    sliderSNR=widgets.IntSlider(max=40,min=-50,step=1,value=-5,description=\"SNR\")\n",
    "    checkbox_computeML=widgets.Checkbox(value=False,description=\"Compute ML \")\n",
    "    checkbox_computeMAP=widgets.Checkbox(value=False,description=\"Compute MAP\")\n",
    "    checkbox_display_results=widgets.Checkbox(value=True,description=\"Display results: \")\n",
    "    checkbox_display_figs=widgets.Checkbox(value=False,description=\"Display figs: \")\n",
    "    start_button=  widgets.Button(description=\"Start!\")\n",
    "\n",
    "    container_sliders = widgets.VBox(children=[sliderN,sliderSNR])\n",
    "\n",
    "    container = widgets.Box(children = [\n",
    "        widgets.VBox(children=[checkbox_computeML,checkbox_computeMAP]),\n",
    "        widgets.VBox([checkbox_display_results,checkbox_display_figs])\n",
    "    ])\n",
    "    container_start_button = widgets.HBox(children=(start_button,))\n",
    "\n",
    "\n",
    "    big_container=widgets.VBox(children=[container_sliders, \n",
    "                                        container,\n",
    "                                        container_start_button],\n",
    "                              layout=Layout(width='70%', align='left'))\n",
    "    big_container.box_style=\"success\"\n",
    "    big_container.width=\"50%\"\n",
    "    big_container.border_radius=20\n",
    "\n",
    "    container_sliders.width=\"100%\"\n",
    "    container_sliders.align=\"end\"\n",
    "\n",
    "    container.width=\"100%\"\n",
    "    container.align=\"center\"\n",
    "\n",
    "    container_start_button.width=\"100%\"\n",
    "    container_start_button.align=\"end\"\n",
    "\n",
    "    #@out.capture(clear_output=True, wait=True) \n",
    "    def run_tings(b):\n",
    "        clear_output(wait=True)\n",
    "        #print(\"Button clicked.\")\n",
    "        compute_ML=checkbox_computeML.value\n",
    "        compute_MAP=checkbox_computeMAP.value\n",
    "        display_figs=checkbox_display_figs.value\n",
    "        display_results=checkbox_display_results.value\n",
    "        N=sliderN.value\n",
    "        SNR=sliderSNR.value   \n",
    "\n",
    "        simul(N, SNR,compute_ML,compute_MAP,display_results, display_figs)\n",
    "        plt.show()\n",
    "\n",
    "    start_button.on_click(run_tings)\n",
    "    sliderN.observe(run_tings,names=[\"value\"])\n",
    "    sliderSNR.observe(run_tings,names=[\"value\"])\n",
    "    checkbox_computeML.observe(run_tings,names=[\"value\"])\n",
    "    checkbox_computeMAP.observe(run_tings,names=[\"value\"])\n",
    "    checkbox_display_figs.observe(run_tings,names=[\"value\"])\n",
    "    checkbox_display_results.observe(run_tings,names=[\"value\"])\n",
    "\n",
    "    display(widgets.VBox([big_container, out]))"
   ]
  },
  {
   "cell_type": "markdown",
   "metadata": {},
   "source": [
    "### Numerical optimization of the MAP criterion  [](#numerical-min) <a name=\"numerical-min\"></a>\n",
    "\n",
    "You must first have a look at the [documentation](http://docs.scipy.org/doc/scipy/reference/generated/scipy.optimize.minimize.html#scipy.optimize.minimize) of the minimization procedures in the scipy stack."
   ]
  },
  {
   "cell_type": "code",
   "execution_count": 12,
   "metadata": {},
   "outputs": [],
   "source": [
    "def apost(theta,y,t,m,sigmas):\n",
    "    # out=apost(theta,y,t,m,sigmav)\n",
    "    # Computation of the a posteriori distribution for a value of the vector parameter theta\n",
    "    # The data y beeing known\n",
    "    # jfb\n",
    "\n",
    "    N=np.size(y)\n",
    "    (s, sigma2, xo)= theta\n",
    "    \n",
    "    # Likelihood\n",
    "    Normalization=1/((2*pi*sigma2)**(N/2));\n",
    "    p_y_if_s= Normalization*np.exp(-(1/(2*sigma2))*(y-s*t-xo).dot(y-s*t-xo))\n",
    "\n",
    "    LL=-N/2*np.log(2*pi*sigma2)-(1/(2*sigma2))*(y-s*t-xo).dot(y-s*t-xo)\n",
    "        \n",
    "    # a priori\n",
    "    Normalization=1/((2*pi*sigmas**2)**(1/2))\n",
    "    ps=Normalization*np.exp(-(s-m)**2/(2*sigmas**2))     #\n",
    "    LP=-1/2*np.log(2*pi*sigmas**2)-(s-m)**2/(2*sigmas**2)\n",
    "        \n",
    "    #A posteriori is proportional to\n",
    "    p_s_if_y= ps*p_y_if_s; \n",
    "    out=-LL-LP; ## Opposite of the log a posteriori --> To minimize....\n",
    "    return out"
   ]
  },
  {
   "cell_type": "markdown",
   "metadata": {},
   "source": [
    "Complete the following script and experiment "
   ]
  },
  {
   "cell_type": "code",
   "execution_count": 13,
   "metadata": {},
   "outputs": [
    {
     "name": "stdout",
     "output_type": "stream",
     "text": [
      "Estimated speed:     49.045051309218024 (km/h) [true is 50]\n",
      "Estimated var:       88.78744677086351 [true is 192.90123456790124] \n",
      "Estimated initial position : 2.01710238717149 [true is 0]\n"
     ]
    }
   ],
   "source": [
    "# a priori distribution: speed with Gaussian distribution centered on  50 km/h\n",
    "s0=50/3.6\n",
    "sigmas=5/3.6\n",
    "x,y,iR,t, sigma = data_init(N=20, SNR=0)\n",
    "\n",
    "from scipy.optimize import minimize\n",
    "\n",
    "fun=apost\n",
    "args=(y,t,s0,sigmas)\n",
    "method=\"Nelder-Mead\"\n",
    "#method=\"CG\"\n",
    "\n",
    "initial_value=[20,0.01,1]   # COMPLETE HERE\n",
    "\n",
    "res=minimize(fun, initial_value, args, method, jac=None)\n",
    "\n",
    "# look at the docs to understand how to retrieve the results. Then edit below\n",
    "s_estimated=res.x[0]*3.6\n",
    "sig_estimated=res.x[1]\n",
    "yo_estimated=res.x[2]\n",
    "\n",
    "print(\"{0: <20} {1} (km/h) [true is 50]\".format(\"Estimated speed:\",s_estimated))\n",
    "print(\"{0: <20} {1} [true is {2}] \".format(\"Estimated var:\", sig_estimated,sigma**2))\n",
    "print(\"Estimated initial position : %s [true is 0]\" % yo_estimated)\n",
    "\n",
    "\n",
    "# This is a short note on the matlab way for doing the same \n",
    "matlabway=\"\"\"\n",
    "options=optimset('fminunc');\n",
    "options = optimset(options,'Display','off');\n",
    "[Theta,FVAL,EXITFLAG,OUTPUT]=fminunc('apost',[40/3.6,20,4],options, y,t,m,sigmav);\n",
    "disp(['Solutions by global optimization of the a posteriori :' ])\n",
    "disp(['Number of iterations : ' num2str(OUTPUT.iterations) ])\n",
    "disp(['Estiamted speed : ' num2str(Theta(1)*3.6) ' (Exacte :' num2str(vv) ')' ])\n",
    "disp(['Estimated standard deviation: ' num2str(sqrt(Theta(2))) ' (Exact :' num2str(sigma) ')'  ])\n",
    "disp(['Estimated initial position : ' num2str((Theta(3))) ' (Exact :' num2str(xo) ')'  ])\n",
    "\"\"\""
   ]
  }
 ],
 "metadata": {
  "hide_input": false,
  "kernelspec": {
   "display_name": "Python 3",
   "language": "python",
   "name": "python3"
  },
  "language_info": {
   "codemirror_mode": {
    "name": "ipython",
    "version": 3
   },
   "file_extension": ".py",
   "mimetype": "text/x-python",
   "name": "python",
   "nbconvert_exporter": "python",
   "pygments_lexer": "ipython3",
   "version": "3.7.3"
  },
  "latex_envs": {
   "LaTeX_envs_menu_present": true,
   "autoclose": false,
   "autocomplete": true,
   "bibliofile": "biblio.bib",
   "cite_by": "apalike",
   "current_citInitial": 1,
   "eqLabelWithNumbers": true,
   "eqNumInitial": 0,
   "hotkeys": {
    "equation": "ctrl-e"
   },
   "labels_anchors": false,
   "latex_user_defs": false,
   "report_style_numbering": false,
   "user_envs_cfg": false
  },
  "nbTranslate": {
   "displayLangs": [
    "*"
   ],
   "hotkey": "alt-t",
   "langInMainMenu": true,
   "sourceLang": "en",
   "targetLang": "fr",
   "useGoogleTranslate": true
  },
  "toc": {
   "base_numbering": "1",
   "nav_menu": {},
   "number_sections": true,
   "sideBar": true,
   "skip_h1_title": false,
   "title_cell": "Table of Contents",
   "title_sidebar": "Contents",
   "toc_cell": true,
   "toc_position": {
    "height": "calc(100% - 180px)",
    "left": "10px",
    "top": "150px",
    "width": "219px"
   },
   "toc_section_display": true,
   "toc_window_display": false
  }
 },
 "nbformat": 4,
 "nbformat_minor": 1
}
