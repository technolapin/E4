{
 "cells": [
  {
   "cell_type": "markdown",
   "metadata": {
    "colab_type": "text",
    "id": "SgS1leGfZcHE"
   },
   "source": [
    "# TD 1 - Prise en main, gestion de contraste et de luminosité."
   ]
  },
  {
   "cell_type": "markdown",
   "metadata": {
    "colab_type": "text",
    "id": "agSuunPUZcHN"
   },
   "source": [
    "L'objectif de ce TD est que vous preniez en main python et les Jupyter Notebooks, tout en faisant vos premières expériences avec les concepts de ce cours. Nous allons nous donner pour objectif aujourd'hui de réaliser une petite interface pour jouer sur le contraste et la luminosité d'une image. "
   ]
  },
  {
   "cell_type": "markdown",
   "metadata": {
    "colab_type": "text",
    "id": "SK-SbvtyZcHT"
   },
   "source": [
    "## 1. Calculs matriciels \"broadcasting\" avec Numpy"
   ]
  },
  {
   "cell_type": "markdown",
   "metadata": {
    "colab_type": "text",
    "id": "6HEDjaIgZcHY"
   },
   "source": [
    "Dans ce cours nous allons nous reposer principalement sur 3 modules python incoutournables pour les activités scientifiques et le traitement d'images:\n",
    "- Numpy: Calcul numérique matriciel.\n",
    "- Matplolib : Tracé de courbes et graphiques.\n",
    "- opencv: CV veut dire \"Computer Vision\". On y trouve les fonctions les plus utiles en traitement d'images, vidéo et vision par ordinateur.\n",
    "\n",
    "Importons donc ces modules dans notre environnement pour pouvoir les appeler:"
   ]
  },
  {
   "cell_type": "code",
   "execution_count": 1,
   "metadata": {
    "colab": {},
    "colab_type": "code",
    "id": "IBUhgwfvZcHe"
   },
   "outputs": [
    {
     "ename": "ModuleNotFoundError",
     "evalue": "No module named 'google'",
     "output_type": "error",
     "traceback": [
      "\u001b[0;31m---------------------------------------------------------------------------\u001b[0m",
      "\u001b[0;31mModuleNotFoundError\u001b[0m                       Traceback (most recent call last)",
      "\u001b[0;32m<ipython-input-1-f3a435fea636>\u001b[0m in \u001b[0;36m<module>\u001b[0;34m\u001b[0m\n\u001b[1;32m      7\u001b[0m \u001b[0;32mfrom\u001b[0m \u001b[0mipywidgets\u001b[0m \u001b[0;32mimport\u001b[0m \u001b[0minteract\u001b[0m\u001b[0;34m,\u001b[0m \u001b[0mfixed\u001b[0m\u001b[0;34m\u001b[0m\u001b[0;34m\u001b[0m\u001b[0m\n\u001b[1;32m      8\u001b[0m \u001b[0;32mfrom\u001b[0m \u001b[0mIPython\u001b[0m\u001b[0;34m.\u001b[0m\u001b[0mdisplay\u001b[0m \u001b[0;32mimport\u001b[0m \u001b[0mdisplay\u001b[0m\u001b[0;34m\u001b[0m\u001b[0;34m\u001b[0m\u001b[0m\n\u001b[0;32m----> 9\u001b[0;31m \u001b[0;32mfrom\u001b[0m \u001b[0mgoogle\u001b[0m\u001b[0;34m.\u001b[0m\u001b[0mcolab\u001b[0m \u001b[0;32mimport\u001b[0m \u001b[0mdrive\u001b[0m\u001b[0;34m\u001b[0m\u001b[0;34m\u001b[0m\u001b[0m\n\u001b[0m\u001b[1;32m     10\u001b[0m \u001b[0mdrive\u001b[0m\u001b[0;34m.\u001b[0m\u001b[0mmount\u001b[0m\u001b[0;34m(\u001b[0m\u001b[0;34m'/content/gdrive/'\u001b[0m\u001b[0;34m,\u001b[0m \u001b[0mforce_remount\u001b[0m\u001b[0;34m=\u001b[0m\u001b[0;32mTrue\u001b[0m\u001b[0;34m)\u001b[0m\u001b[0;34m\u001b[0m\u001b[0;34m\u001b[0m\u001b[0m\n\u001b[1;32m     11\u001b[0m \u001b[0;31m# trouver le chemin vers le premier module -- celui-ci est peut-être différent de ce qui est proposé ci-dessous\u001b[0m\u001b[0;34m\u001b[0m\u001b[0;34m\u001b[0m\u001b[0;34m\u001b[0m\u001b[0m\n",
      "\u001b[0;31mModuleNotFoundError\u001b[0m: No module named 'google'"
     ]
    }
   ],
   "source": [
    "import matplotlib\n",
    "import numpy as np\n",
    "import matplotlib.pyplot as plt\n",
    "import cv2\n",
    "from skimage import data, color, img_as_ubyte\n",
    "import ipywidgets as widgets\n",
    "from ipywidgets import interact, fixed\n",
    "from IPython.display import display\n",
    "from google.colab import drive\n",
    "drive.mount('/content/gdrive/', force_remount=True)\n",
    "# trouver le chemin vers le premier module -- celui-ci est peut-être différent de ce qui est proposé ci-dessous\n",
    "base_dir - \"/content/gdrive/Premier_module_Etudiants/\"\n",
    "# ensuite on configure qq variable pour l'affichage des images \n",
    "plt.rcParams['figure.figsize'] = (7.0, 6.0)\n",
    "plt.rcParams['image.interpolation'] = 'None'\n",
    "plt.rcParams['image.cmap'] = 'gray'"
   ]
  },
  {
   "cell_type": "markdown",
   "metadata": {
    "colab_type": "text",
    "id": "8wlzHvJCZcHu"
   },
   "source": [
    "Numpy permet de créer et manipuler des matrices et vecteurs. Comme vous le savez une image est représentée par une matrice (array) en informatique. Numpy a été importé sous l'alias np, il faut donc préceder toute fonction de numpy par \"np.\", comme un nom de domaine, pour l'appeler. Vous aller utiliser les fonctions suivantes pour réaliser les tâches de cette partie:\n",
    "- `np.array` : crée un array à partir d'un objet, le plus souvent une liste ou un tuple. \n",
    "- `np.zeros` : crée un array initialisé à zéro à partir d'un tuple définissant sa taille.\n",
    "- `np.exp` : une des nombreuse fonctions mathématiques implémentées dans numpy. S'applique à tous les points de la matrice. \n",
    "- `np.power` : de même que np.exp.\n",
    "- +, -, *, / : les opérations arithmétiques sont étendues aux matrices. On peut +-*/ une matrice par un scalaire, +*-/ des matrices de même taille (opération point à point) ou de tailles compatibles pour un broadcast.\n",
    "\n",
    "Si A est une matrice `A[i, j]` retourne la valeur de l'élément en position $(i,j)$"
   ]
  },
  {
   "cell_type": "markdown",
   "metadata": {
    "colab_type": "text",
    "id": "4xQfWrepZcHy"
   },
   "source": [
    "### Exercice 1.1 :  Chercher de l'aide!\n",
    "Afficher l'aide (appelée docstring) de la fonction np.array. Pour afficher l'aide d'une fonction __faire préceder son nom de `?`__. Vous en aurez besoin tout au long de ces TDs."
   ]
  },
  {
   "cell_type": "code",
   "execution_count": 0,
   "metadata": {
    "colab": {},
    "colab_type": "code",
    "id": "MfYfcmjhZcH1"
   },
   "outputs": [],
   "source": [
    "# Votre code ici, une ligne suffit.\n"
   ]
  },
  {
   "cell_type": "markdown",
   "metadata": {
    "colab_type": "text",
    "id": "xfmkPOdYZcIA"
   },
   "source": [
    "### Exercice 1.2: Créer et manipuler une matrice\n",
    "1. Créer la matrice $A = [[1., 2.], [3., 4.]]$. \n",
    "2. La transformer pour lui appliquer en chaque point la fonction: $f(x) = x^2/e^x$. \n",
    "3. Mettre l'élément en position (1,1) à 0."
   ]
  },
  {
   "cell_type": "code",
   "execution_count": 0,
   "metadata": {
    "colab": {},
    "colab_type": "code",
    "id": "UJg4PZAAZcID"
   },
   "outputs": [],
   "source": [
    "# Votre code ici, 4 lignes suffisent.\n"
   ]
  },
  {
   "cell_type": "markdown",
   "metadata": {
    "colab_type": "text",
    "id": "lIbNWulnZcIM"
   },
   "source": [
    "Résultat attendu : \n",
    "[[ 0.36787944  0.54134113]\n",
    " [ 0.44808362  0.        ]]"
   ]
  },
  {
   "cell_type": "markdown",
   "metadata": {
    "colab_type": "text",
    "id": "R8s5jfS8ZcIQ"
   },
   "source": [
    "### Exercice 1.3 : Attention aux types !\n",
    "Convertir la matrice $A = [[1., 2.], [3., 4.]]$ en entiers sur 8bits en utilisant la méthode `.astype(np.uint8)`. Retrancher à $A$ la matrice $B = [[3, 3], [3, 3]]$ de type uint8 que vous aurez créée. Le résultat est-il conforme à vos attentes?"
   ]
  },
  {
   "cell_type": "code",
   "execution_count": 0,
   "metadata": {
    "colab": {},
    "colab_type": "code",
    "id": "r8kti_i0ZcIS",
    "scrolled": true
   },
   "outputs": [],
   "source": [
    "# Votre code ici, 3 lignes suffisent.\n"
   ]
  },
  {
   "cell_type": "markdown",
   "metadata": {
    "colab_type": "text",
    "id": "SRfrH7q3ZcIY"
   },
   "source": [
    "Résultat attendu : \n",
    "[[254 255]\n",
    " [  0   1]]\n",
    "    "
   ]
  },
  {
   "cell_type": "markdown",
   "metadata": {
    "colab_type": "text",
    "id": "0_mUVMgrZcIa"
   },
   "source": [
    "Faites la même manip en laissant $A$ en float. Que pensez-vous du résultat?"
   ]
  },
  {
   "cell_type": "code",
   "execution_count": 0,
   "metadata": {
    "colab": {},
    "colab_type": "code",
    "id": "FDgAfD8RZcIe"
   },
   "outputs": [],
   "source": [
    "# Votre code ici, 3 lignes suffisent.\n"
   ]
  },
  {
   "cell_type": "markdown",
   "metadata": {
    "colab_type": "text",
    "id": "Zzew8dQxZcIn"
   },
   "source": [
    "Résultat attendu : \n",
    "[[-2. -1.]\n",
    " [ 0.  1.]]"
   ]
  },
  {
   "cell_type": "markdown",
   "metadata": {
    "colab_type": "text",
    "id": "5XvAdTKHZcIp"
   },
   "source": [
    "### Exercice 1.4 : selections et multiplications\n",
    "Construire la matrice: $C = [[-1,2,3], [4,5,320]]$. Afficher ce que vaut l'expression $C<0$. Afficher ce que vaut $C*(C>0)$."
   ]
  },
  {
   "cell_type": "code",
   "execution_count": 0,
   "metadata": {
    "colab": {},
    "colab_type": "code",
    "id": "kF6_T7TgZcIs",
    "scrolled": true
   },
   "outputs": [],
   "source": [
    "# Votre code ici, 3 lignes suffisent.\n"
   ]
  },
  {
   "cell_type": "markdown",
   "metadata": {
    "colab_type": "text",
    "id": "KVEOK3suZcIz"
   },
   "source": [
    "    Résultat attendu:\n",
    "[[ True False False]\n",
    " [False False False]]\n",
    " \n",
    "Out[]: array([[  0,   2,   3],\n",
    "       [  4,   5, 320]])"
   ]
  },
  {
   "cell_type": "markdown",
   "metadata": {
    "colab_type": "text",
    "id": "MU5uNjXWZcI3"
   },
   "source": [
    "Ecrire le code de la fonction `clamp()` qui met à 0 tous les éléments d'une matrice inférieurs à 0 et à 255 tous ceux supérieurs à 255."
   ]
  },
  {
   "cell_type": "code",
   "execution_count": 0,
   "metadata": {
    "colab": {},
    "colab_type": "code",
    "id": "9gSg8dU1ZcI6"
   },
   "outputs": [],
   "source": [
    "def clamp(x):\n",
    "    \"\"\" Les valeurs de x <0 sont remplacées par 0 et celles > 255 sont remplacées par 255.\n",
    "    \"\"\"\n",
    "    # votre code ici construire la sortie que vous appelerez y\n",
    "\n",
    "    return y"
   ]
  },
  {
   "cell_type": "code",
   "execution_count": 0,
   "metadata": {
    "colab": {},
    "colab_type": "code",
    "id": "dR70E39uZcJD",
    "outputId": "6e9f2714-41a0-447a-9f6b-661af17ef84f"
   },
   "outputs": [
    {
     "data": {
      "text/plain": [
       "array([[  0,   1,   2],\n",
       "       [  3,   4, 255]])"
      ]
     },
     "execution_count": 17,
     "metadata": {
      "tags": []
     },
     "output_type": "execute_result"
    }
   ],
   "source": [
    "# Test\n",
    "clamp(C-1)"
   ]
  },
  {
   "cell_type": "markdown",
   "metadata": {
    "colab_type": "text",
    "id": "PJYhm426ZcJM"
   },
   "source": [
    "Résultat attendu:\n",
    "array([[  0,   1,   2],\n",
    "       [  3,   4, 255]])"
   ]
  },
  {
   "cell_type": "markdown",
   "metadata": {
    "colab_type": "text",
    "id": "LVeWlLf_ZcJO"
   },
   "source": [
    "### Conclusion de la première partie\n",
    "Quand vous manipulerez des images, vous recevrez une matrices d'entiers sur 8 bits (entre 0 et 255). Vous ferez tous types de manipulations intermédiaires sur les pixels. Pour cela, afin d'éviter les under/overflow vous passerez dans un type qui supporte vos, calculs, par exemple castant votre image en float dès le début.\n",
    "Enfin, si vous retournez à la fin une image standard, vous la reconvertirez en entier sur 8 bits, en ayant pris le soin de clipper les valeurs à 0 et 255.\n",
    "RETENEZ CETTE MANIERE DE FAIRE POUR LA SUITE DE NOS COURS."
   ]
  },
  {
   "cell_type": "markdown",
   "metadata": {
    "colab_type": "text",
    "id": "J0YNhBQ6ZcJQ"
   },
   "source": [
    "__Savourez, vous avez fini la première partie!__\n",
    "***"
   ]
  },
  {
   "cell_type": "markdown",
   "metadata": {
    "colab_type": "text",
    "id": "kLInw3tLZcJS"
   },
   "source": [
    "## 2. Manpulation du contraste et de la luminosité d'une image"
   ]
  },
  {
   "cell_type": "markdown",
   "metadata": {
    "colab_type": "text",
    "id": "zvy59PpZZcJU"
   },
   "source": [
    "Pour charger une image stockèe à l'emplacement `image_path` nous utiliserons la fonction: `cv2.imread(image_path, cv2.IMREAD_GRAYSCALE)`.\n",
    "Pour l'afficher: `plt.imshow()`.\n",
    "## Exercice 2.1: charger une image\n",
    "1. Lire l'image 'image/sqr1.jpg' et la stocker dans la variable img. \n",
    "2. Afficher le type de l'objet (avec la fonction `type `), puis ses dimensions avec l'attribut `.shape`.\n",
    "3. Afficher l'image."
   ]
  },
  {
   "cell_type": "code",
   "execution_count": 0,
   "metadata": {
    "colab": {},
    "colab_type": "code",
    "id": "C90_1GC2ZcJW"
   },
   "outputs": [],
   "source": [
    "# Votre code ici, 4 lignes.\n"
   ]
  },
  {
   "cell_type": "markdown",
   "metadata": {
    "colab_type": "text",
    "id": "kKv4hKJkZcJd"
   },
   "source": [
    "Je vous donne aussi une image de *dégradé* qui sera bien utile pour comprendre ce qui se passe:"
   ]
  },
  {
   "cell_type": "code",
   "execution_count": 0,
   "metadata": {
    "colab": {},
    "colab_type": "code",
    "id": "Lmw0P1cBZcJh",
    "outputId": "7a472121-6f19-44f0-93db-de225938a927"
   },
   "outputs": [
    {
     "data": {
      "image/png": "[encoded data removed]",
      "text/plain": [
       "<Figure size 432x288 with 1 Axes>"
      ]
     },
     "metadata": {
      "needs_background": "light",
      "tags": []
     },
     "output_type": "display_data"
    }
   ],
   "source": [
    "# Image de dégradé\n",
    "img_degrade = np.zeros((256, 256))\n",
    "img_degrade = img_degrade+range(0, 256)\n",
    "plt.imshow(img_degrade)\n",
    "plt.show()"
   ]
  },
  {
   "cell_type": "markdown",
   "metadata": {
    "colab_type": "text",
    "id": "enHoAKOQZcJq"
   },
   "source": [
    "## Commençons par quelques expériences simples\n",
    "Nous allons voir aujourd'hui des méthodes très simples pour manipuler le contrast et la luminosité d'une image. Ces méthodes sont des méthodes dites globales dans lesquelles la valeur de chaque pixel $p$ de l'image $I$, dénotée $I(p)$ sera modifié par une même fonction $f()$ qui ne s'intéresse qu'a l'intensité du pixel.\n",
    "\n",
    "Pour nous faire la main nous allons d'abord regarder ce qui se passe quand on fait des manipulations extrement simples où $f$ est linéaire en regardant les trois cas suivants: \n",
    "1. $f_1(x) = x+b$\n",
    "2. $f_2(x) = a.x$\n",
    "3. $f_3(x) = a.(x-mean(x)) + mean(x) + b$\n",
    "\n",
    "Nous allons observer l'image résultante et nous allons voir comment sa moyenne et son écart-type évoluent.\n",
    "\n",
    "Rappelez-vous de ce qui se passe quand on manipule des entiers sans faire attention. On a des surprises. On va donc faire les choses dans cet ordre:\n",
    "1. Convertir l'image dans un type dans lequel il ne risque pas d'y avoir de problème (disons float).\n",
    "2. Appliquer nos traitements.\n",
    "3. Appliquer l'opérateur clamp() pour se préparer à retourner dans les entiers.\n",
    "4. Convertir en entiers.\n",
    "\n",
    "## Exercice 2.2\n",
    "Le code suivant fait le necessaire pour implémenter $f_1$ et interagir avec elle. Executez-le, et chercher à en tirer une réponse à la question: $f_1$ modifie-t-elle plutôt la luminosité ou le contraste de l'image? Justifiez votre réponse. Vous pourrez observer comment la moyenne et l'écart-type de l'image sont modifiés.\n"
   ]
  },
  {
   "cell_type": "code",
   "execution_count": 0,
   "metadata": {
    "colab": {
     "referenced_widgets": [
      "f2aa7c9afae243cf8e029155bd05a8fb"
     ]
    },
    "colab_type": "code",
    "id": "M7EOzdnEZcJr",
    "outputId": "17c4c82f-ce97-45bb-d670-e9000b5822bf"
   },
   "outputs": [
    {
     "data": {
      "application/vnd.jupyter.widget-view+json": {
       "model_id": "f2aa7c9afae243cf8e029155bd05a8fb",
       "version_major": 2,
       "version_minor": 0
      },
      "text/plain": [
       "interactive(children=(IntSlider(value=0, description='b', max=10, min=-10), Output()), _dom_classes=('widget-i…"
      ]
     },
     "metadata": {
      "tags": []
     },
     "output_type": "display_data"
    },
    {
     "data": {
      "text/plain": [
       "<function __main__.f1(b=0)>"
      ]
     },
     "execution_count": 30,
     "metadata": {
      "tags": []
     },
     "output_type": "execute_result"
    }
   ],
   "source": [
    "def f1(b=0):\n",
    "    \"\"\" Applique f1 = img + 10*b et affiche le résultat.\"\"\"\n",
    "    img_out = img.astype(float)+10*b # on applique f1 sur l'image en float\n",
    "    m, s = img_out.mean(), img_out.std() # calcul des moments de l'image\n",
    "    img_out = clamp(img_out) # clipping des pixels négatifs à 0 et de deux >255\n",
    "    img_out = img_out.astype(np.uint8) # on reconverti en entiers.\n",
    "    # affichage l'image d'origine et de l'image traitée côte à côte\n",
    "    fi, (ax1, ax2) = plt.subplots(1, 2)\n",
    "    ax1.imshow(img, cmap = plt.cm.gray, interpolation = 'None', vmin= 0 , vmax = 255)\n",
    "    ax1.axis('off')\n",
    "    ax2.imshow(img_out, cmap = plt.cm.gray, interpolation = 'None', vmin= 0 , vmax = 255)\n",
    "    ax2.axis('off')\n",
    "    plt.show()\n",
    "    # on retourne une chaine de caractère contenant la moyenne et l'écart type que l'on veut observer.\n",
    "    return \"mean:\" + str(int(m))+ \" sdev: \" + str(int(s))\n",
    "interact(f1, b=(-10, 10))"
   ]
  },
  {
   "cell_type": "code",
   "execution_count": 0,
   "metadata": {
    "colab": {
     "referenced_widgets": [
      "ae68df6a403647909aecd6f5c3c6f7fa"
     ]
    },
    "colab_type": "code",
    "id": "sFnucGnUZcJy",
    "outputId": "4f0afdf4-50bd-4041-cd45-ad5999a406bd"
   },
   "outputs": [
    {
     "data": {
      "application/vnd.jupyter.widget-view+json": {
       "model_id": "ae68df6a403647909aecd6f5c3c6f7fa",
       "version_major": 2,
       "version_minor": 0
      },
      "text/plain": [
       "interactive(children=(IntSlider(value=0, description='b', max=10, min=-10), Output()), _dom_classes=('widget-i…"
      ]
     },
     "metadata": {
      "tags": []
     },
     "output_type": "display_data"
    },
    {
     "data": {
      "text/plain": [
       "<function __main__.f1_degrade(b=0)>"
      ]
     },
     "execution_count": 29,
     "metadata": {
      "tags": []
     },
     "output_type": "execute_result"
    }
   ],
   "source": [
    "def f1_degrade(b=0):\n",
    "    img_out = img_degrade.astype(float)+10*b # on applique f1 sur l'image en float\n",
    "    m, s = img_out.mean(), img_out.std() # calcul des moments de l'image\n",
    "    img_out = clamp(img_out) # clipping des pixels négatifs à 0 et de deux >255\n",
    "    img_out = img_out.astype(np.uint8) # on reconverti en entiers.\n",
    "    # affichage l'image d'origine et de l'image traitée côte à côte\n",
    "    fi, (ax1, ax2) = plt.subplots(1, 2)\n",
    "    ax1.imshow(img_degrade, cmap = plt.cm.gray, interpolation = 'None', vmin= 0 , vmax = 255)\n",
    "    ax1.axis('off')\n",
    "    ax2.imshow(img_out, cmap = plt.cm.gray, interpolation = 'None', vmin= 0 , vmax = 255)\n",
    "    ax2.axis('off')\n",
    "    plt.show()\n",
    "    # on retourne une chaine de caractère contenant la moyenne et l'écart type que l'on veut observer.\n",
    "    return \"mean:\" + str(int(m))+ \" sdev: \" + str(int(s))\n",
    "interact(f1_degrade, b=(-10, 10))"
   ]
  },
  {
   "cell_type": "markdown",
   "metadata": {
    "colab_type": "text",
    "id": "gehsY0bRZcJ5"
   },
   "source": [
    "Votre réponse dans cette cellule, quel est l'effet de $f_1$ ? Agit-elle séparément sur la moyenne et sur l'écart-type de l'image?\n",
    "\n",
    "...\n"
   ]
  },
  {
   "cell_type": "markdown",
   "metadata": {
    "colab_type": "text",
    "id": "LP81a66AZcJ8"
   },
   "source": [
    "### Exercice 2.3\n",
    "Ecrire le code pour les fonctions $f_2$ et $f_3$. Executez-les, et chercher à tirer une conclusion. \n",
    "1. $f_2$ modifie-t-elle plutôt la luminosité ou le contraste de l'image? Justifiez votre réponse.\n",
    "2. Dans $f_3$ quel paramètre joue sur le contraste et quel paramètre joue sur la luminosité?"
   ]
  },
  {
   "cell_type": "code",
   "execution_count": 0,
   "metadata": {
    "colab": {
     "referenced_widgets": [
      "85820b896b6946df8fc940915336a1e3"
     ]
    },
    "colab_type": "code",
    "id": "d9VV02VfZcJ9",
    "outputId": "c6a82074-d731-43eb-c76c-9cb731089ccf"
   },
   "outputs": [
    {
     "data": {
      "application/vnd.jupyter.widget-view+json": {
       "model_id": "85820b896b6946df8fc940915336a1e3",
       "version_major": 2,
       "version_minor": 0
      },
      "text/plain": [
       "interactive(children=(FloatSlider(value=1.0, description='a', max=5.0), Output()), _dom_classes=('widget-inter…"
      ]
     },
     "metadata": {
      "tags": []
     },
     "output_type": "display_data"
    },
    {
     "data": {
      "text/plain": [
       "<function __main__.f2(a=1.0)>"
      ]
     },
     "execution_count": 25,
     "metadata": {
      "tags": []
     },
     "output_type": "execute_result"
    }
   ],
   "source": [
    "# Votre code pour $f_2$ ici\n",
    "\n"
   ]
  },
  {
   "cell_type": "markdown",
   "metadata": {
    "colab_type": "text",
    "id": "jAbvDbgXZcKF"
   },
   "source": [
    "Votre réponse dans cette cellule, quel est l'effet de $f_2$ ? Agit-elle séparément sur la moyenne et sur l'écart-type de l'image?\n",
    "\n",
    "...\n"
   ]
  },
  {
   "cell_type": "code",
   "execution_count": 0,
   "metadata": {
    "colab": {
     "referenced_widgets": [
      "81c55776994c470795fafd34a9d56fa2"
     ]
    },
    "colab_type": "code",
    "id": "k-QQJIPTZcKH",
    "outputId": "d8cc0ca6-be8c-4594-f0ad-de3ac8adaff1"
   },
   "outputs": [
    {
     "data": {
      "application/vnd.jupyter.widget-view+json": {
       "model_id": "81c55776994c470795fafd34a9d56fa2",
       "version_major": 2,
       "version_minor": 0
      },
      "text/plain": [
       "interactive(children=(FloatSlider(value=1.0, description='a', max=5.0), IntSlider(value=0, description='b', ma…"
      ]
     },
     "metadata": {
      "tags": []
     },
     "output_type": "display_data"
    },
    {
     "data": {
      "text/plain": [
       "<function __main__.f2(a=1.0, b=0)>"
      ]
     },
     "execution_count": 38,
     "metadata": {
      "tags": []
     },
     "output_type": "execute_result"
    }
   ],
   "source": [
    "# Votre code pour $f_3$ ici\n"
   ]
  },
  {
   "cell_type": "markdown",
   "metadata": {
    "colab_type": "text",
    "id": "wlp19Nx8ZcKL"
   },
   "source": [
    "Votre réponse dans cette cellule, quel est l'effet de $a$ ?\n",
    "\n",
    "...\n",
    "\n",
    "Votre réponse dans cette cellule, quel est l'effet de $b$ ?\n",
    "\n",
    "...\n"
   ]
  },
  {
   "cell_type": "markdown",
   "metadata": {
    "colab_type": "text",
    "id": "cOXWxDElZcKN"
   },
   "source": [
    "## Des fonctions plus intéressantes\n",
    "Nous allons voir deux classes de fonctions plus intéressantes. Pour comprendre comment elles marchent, il suffit de nous ramener au cas linéaire que nous avons traité, en approximant localement ces fonctions par des droites. \n",
    "### Les Sigmoïdes\n",
    "Une classe de transformation très classique consiste à appliquer à chaque pixel d'une image une sigmoïde, c'est à dire une courbe qui a un profil de S. Une telle fonction bien connue est la fonctions logistique dont l'équation est: \n",
    "$S(x) = 1/(1+exp(-x))$.\n",
    "Dans la cellule ci-dessous, nous définissons et traçons cette fonction."
   ]
  },
  {
   "cell_type": "code",
   "execution_count": 0,
   "metadata": {
    "colab": {},
    "colab_type": "code",
    "id": "umglz6WcZcKR",
    "outputId": "ce719ea7-651c-49c6-8885-d4a7cb2f0d46"
   },
   "outputs": [
    {
     "data": {
      "image/png": "[encoded data removed]",
      "text/plain": [
       "<Figure size 504x432 with 1 Axes>"
      ]
     },
     "metadata": {
      "needs_background": "light",
      "tags": []
     },
     "output_type": "display_data"
    }
   ],
   "source": [
    "def sigmoid(x):\n",
    "    return 1.0/(1.0+np.exp(-x))\n",
    "x = np.arange(-10, 10, 0.01)\n",
    "y = sigmoid(x)\n",
    "plt.plot(x, y)\n",
    "plt.show()"
   ]
  },
  {
   "cell_type": "markdown",
   "metadata": {
    "colab_type": "text",
    "id": "6Pi3SC3AZcKY"
   },
   "source": [
    "Pour appliquer une telle fonctions sur des images dans [0, 255], nous allons la translater et la dilater:\n",
    "\n",
    "$S_{int8}(x) = \\frac{255}{1+e^{-(x-128)}}$\n"
   ]
  },
  {
   "cell_type": "code",
   "execution_count": 0,
   "metadata": {
    "colab": {},
    "colab_type": "code",
    "id": "TaF8VZ9AZcKa",
    "outputId": "20d71e39-e938-48bc-f85c-dba9e944f1e9"
   },
   "outputs": [
    {
     "data": {
      "image/png": "[encoded data removed]",
      "text/plain": [
       "<Figure size 504x432 with 1 Axes>"
      ]
     },
     "metadata": {
      "needs_background": "light",
      "tags": []
     },
     "output_type": "display_data"
    }
   ],
   "source": [
    "def sigmoid_int8(x):\n",
    "    return 255/(1.0+np.exp(-(x-128)))\n",
    "x = np.arange(0, 255, 1)\n",
    "y = sigmoid_int8(x)\n",
    "plt.plot(x, y)\n",
    "plt.gca().set_ylim([-1, 256]) # bien utile pour fixer le min et le max sur l'axe des y manuellement.\n",
    "plt.show()"
   ]
  },
  {
   "cell_type": "markdown",
   "metadata": {
    "colab_type": "text",
    "id": "lngnCywOZcKf"
   },
   "source": [
    "Pour pouvoir jouer sur la position du point d'inflexion, nous ajouter un paramètre $b$, et pour jouer sur la pente au point d'inflexion un autre $c$. La fonction que nous obtenons est:\n",
    "\n",
    "$S(x, b, c) = \\frac{255}{1+e^{-c.(x+b-255)}}$"
   ]
  },
  {
   "cell_type": "markdown",
   "metadata": {
    "colab_type": "text",
    "id": "YNOi1N9wZcKf"
   },
   "source": [
    "### Exercice 2.4\n",
    "Implementez la fonction $S(x, b, c)$ et afficher la courbe pour x dans [0, 255] dans une interface avec deux sliders pour régler $b$ et $c$. Déterminez les range pertinents pour $b$ et $c$ et l'impact de chacune de ces deux variables."
   ]
  },
  {
   "cell_type": "code",
   "execution_count": 0,
   "metadata": {
    "colab": {
     "referenced_widgets": [
      "3d7c4f40167b4df9b11951d431b3c3bc"
     ]
    },
    "colab_type": "code",
    "id": "BdTPzuxnZcKh",
    "outputId": "64806e3b-5592-4bd6-fed5-0e7c8c489621"
   },
   "outputs": [
    {
     "data": {
      "application/vnd.jupyter.widget-view+json": {
       "model_id": "3d7c4f40167b4df9b11951d431b3c3bc",
       "version_major": 2,
       "version_minor": 0
      },
      "text/plain": [
       "interactive(children=(IntSlider(value=128, description='b', max=255), FloatSlider(value=0.15, description='c',…"
      ]
     },
     "metadata": {
      "tags": []
     },
     "output_type": "display_data"
    },
    {
     "data": {
      "text/plain": [
       "<function __main__.sigmoid_plt(x, b=128.0, c=1.0)>"
      ]
     },
     "execution_count": 28,
     "metadata": {
      "tags": []
     },
     "output_type": "execute_result"
    }
   ],
   "source": [
    "def sigmoid(x, b=128.0, c = 1.0):\n",
    "    # Votre code ici\n",
    "    return y\n",
    "\n",
    "def sigmoid_plt(x, b=128.0, c = 1.0):\n",
    "    # Votre code ici\n",
    "\n",
    "# L'appel à interact ici"
   ]
  },
  {
   "cell_type": "markdown",
   "metadata": {
    "colab_type": "text",
    "id": "M7b7lY_xZcKm"
   },
   "source": [
    "Votre réponse ici:\n",
    "1. effet et range pertinent pour $b$.\n",
    "   \n",
    "   ...\n",
    "2. effet et range pertinent pour $c$.\n",
    "   \n",
    "   ..."
   ]
  },
  {
   "cell_type": "markdown",
   "metadata": {
    "colab_type": "text",
    "id": "Vw7ifa7OZcKn"
   },
   "source": [
    "### Exercice 2.5\n",
    "Nous allons appliquer une telle fonctions aux pixels d'une image. \n",
    "1. Tracer sigmoid(x, 50, 0.2)\n",
    "2. Par quelles droites s'approxime grossièrment la courbe autour des points: 0, 50 et 200?\n",
    "3. En déduire l'impact d'une telle fonction sur la luminosité et le contaste de l'image.\n",
    "4. Appliquer cette courbe à l'image d'écureuil pour vérifier vos prédictions.\n",
    "5. Coder l'interface pour appliquer sigmoid() à l'image avec deux sliders, pour $b$ et $c$."
   ]
  },
  {
   "cell_type": "code",
   "execution_count": 0,
   "metadata": {
    "colab": {},
    "colab_type": "code",
    "id": "exh4hk8TZcKp"
   },
   "outputs": [],
   "source": [
    "# Votre code ici pour tracer sigmoid(x, 50, 0.2). 1 ligne:\n"
   ]
  },
  {
   "cell_type": "markdown",
   "metadata": {
    "colab_type": "text",
    "id": "L22wSYa3ZcK0"
   },
   "source": [
    "Votre réponse :\n",
    "1. La courbe s'approxime en 0 par une droite de pente élevée / faible?\n",
    "\n",
    "...\n",
    "2. La courbe s'approxime en 50 par une droite de pente élevée / faible?\n",
    "\n",
    "...\n",
    "3. La courbe s'approxime en 255 par une droite de pente élevée / faible?\n",
    "\n",
    "...\n",
    "\n",
    "Impact prédit sur l'image \"écureuil\" ?"
   ]
  },
  {
   "cell_type": "code",
   "execution_count": 0,
   "metadata": {
    "colab": {
     "referenced_widgets": [
      "ed605beeefd6477ca270771ca469cfba"
     ]
    },
    "colab_type": "code",
    "id": "zVYAGnPlZcK2",
    "outputId": "0e72a8ac-111b-4c38-895e-47e9519df252"
   },
   "outputs": [
    {
     "data": {
      "application/vnd.jupyter.widget-view+json": {
       "model_id": "ed605beeefd6477ca270771ca469cfba",
       "version_major": 2,
       "version_minor": 0
      },
      "text/plain": [
       "interactive(children=(IntSlider(value=128, description='b', max=255), FloatSlider(value=0.02, description='c',…"
      ]
     },
     "metadata": {
      "tags": []
     },
     "output_type": "display_data"
    },
    {
     "data": {
      "text/plain": [
       "<function __main__.sigmoid_ecureil(b=128.0, c=0.1)>"
      ]
     },
     "execution_count": 39,
     "metadata": {
      "tags": []
     },
     "output_type": "execute_result"
    }
   ],
   "source": [
    "# votre code pour appliquer sigmoid de manière interactive sur l'image écureuil.\n",
    "\n"
   ]
  },
  {
   "cell_type": "code",
   "execution_count": 0,
   "metadata": {
    "colab": {
     "referenced_widgets": [
      "50270d36625740b0bf901d73805238af"
     ]
    },
    "colab_type": "code",
    "id": "dOSoWS0mZcK6",
    "outputId": "e320f238-d84c-43e1-cb4c-bc81a2f89313"
   },
   "outputs": [
    {
     "data": {
      "application/vnd.jupyter.widget-view+json": {
       "model_id": "50270d36625740b0bf901d73805238af",
       "version_major": 2,
       "version_minor": 0
      },
      "text/plain": [
       "interactive(children=(IntSlider(value=128, description='b', max=255), FloatSlider(value=0.02, description='c',…"
      ]
     },
     "metadata": {
      "tags": []
     },
     "output_type": "display_data"
    },
    {
     "data": {
      "text/plain": [
       "<function __main__.sigmoid_degrade(b=128.0, c=0.1)>"
      ]
     },
     "execution_count": 40,
     "metadata": {
      "tags": []
     },
     "output_type": "execute_result"
    }
   ],
   "source": [
    "# votre code pour appliquer sigmoid de manière interactive sur l'image de dégradé.\n",
    "\n"
   ]
  },
  {
   "cell_type": "markdown",
   "metadata": {
    "colab_type": "text",
    "id": "awPdmYLqZcK-"
   },
   "source": [
    "### Les fonctions puissances - Gamma\n",
    "Les fonctions puissances, appellèes correction Gamma dans ce domaine, sont aussi très couramment utilisées. Elles sont définies par:\n",
    "$Gammafunction(x, \\gamma) = 255.(\\frac{x}{255})^{\\gamma}$"
   ]
  },
  {
   "cell_type": "markdown",
   "metadata": {
    "colab_type": "text",
    "id": "USFGG_nqZcLA"
   },
   "source": [
    "### Exercice 2.6\n",
    "Tracer les fonctions de correction gamma pour $\\gamma$ valant 0.5, 1 et 2. Observer les pentes des fonctions et répondez aux questions suivantes pour chaque valeur de $\\gamma$:\n",
    "1. Ces fonctions augmentent-elles/diminuent-elles/ne changent pas les contrastes dans les bas niveaux?\n",
    "2. Ces fonctions augmentent-elles/diminuent-elles/ne changent pas les contrastes dans les hauts niveaux?\n",
    "Puis appliquer ces fonctions à l'image d'écureuil pour confirmer vos prédictions."
   ]
  },
  {
   "cell_type": "code",
   "execution_count": 0,
   "metadata": {
    "colab": {},
    "colab_type": "code",
    "id": "i8HSHHi_ZcLB",
    "outputId": "db66f650-a808-48c2-f92c-ef8284fcafaa"
   },
   "outputs": [
    {
     "ename": "IndentationError",
     "evalue": "expected an indented block (<ipython-input-12-0cf87301340c>, line 5)",
     "output_type": "error",
     "traceback": [
      "\u001b[1;36m  File \u001b[1;32m\"<ipython-input-12-0cf87301340c>\"\u001b[1;36m, line \u001b[1;32m5\u001b[0m\n\u001b[1;33m    for gamma in [0.5, 1.0, 2.0]:\u001b[0m\n\u001b[1;37m      ^\u001b[0m\n\u001b[1;31mIndentationError\u001b[0m\u001b[1;31m:\u001b[0m expected an indented block\n"
     ]
    }
   ],
   "source": [
    "# votre code pour tracer les 3 fcts gamma:\n",
    "def gamma_fun(x, gamma):\n",
    "    # Votre code ici\n",
    "\n",
    "for gamma in [0.5, 1.0, 2.0]:\n",
    "    plt.plot(x, gamma_fun(x, gamma), label = str(gamma))\n",
    "plt.legend()\n",
    "plt.show()"
   ]
  },
  {
   "cell_type": "markdown",
   "metadata": {
    "colab_type": "text",
    "id": "uQwXxWmLZcLH"
   },
   "source": [
    "Votre réponse ici:\n",
    "\n",
    "Cas $\\gamma = 0.5$:\n",
    "1. Cette fonction augmente-elle / diminue-t-elle/ne change pas les contrastes dans les bas niveaux?\n",
    "\n",
    "...\n",
    "2. Cette fonction augmente-elle / diminue-t-elle/ne change pas les contrastes dans les hauts niveaux?\n",
    "\n",
    "...\n",
    "\n",
    "Cas $\\gamma = 1.0$:\n",
    "1. Cette fonction augmente-elle / diminue-t-elle/ne change pas les contrastes dans les bas niveaux?\n",
    "\n",
    "...\n",
    "2. Cette fonction augmente-elle / diminue-t-elle/ne change pas les contrastes dans les hauts niveaux?\n",
    "\n",
    "...\n",
    "\n",
    "Cas $\\gamma = 2.0$:\n",
    "1. Cette fonction augmente-elle / diminue-t-elle/ne change pas les contrastes dans les bas niveaux?\n",
    "\n",
    "...\n",
    "2. Cette fonction augmente-elle / diminue-t-elle/ne change pas les contrastes dans les hauts niveaux?\n",
    "\n",
    "..."
   ]
  },
  {
   "cell_type": "code",
   "execution_count": 0,
   "metadata": {
    "colab": {},
    "colab_type": "code",
    "id": "QTEEc47rZcLI",
    "outputId": "f6800fae-c964-427a-f1a5-972fd83ef1af"
   },
   "outputs": [
    {
     "data": {
      "image/png": "[encoded data removed]",
      "text/plain": [
       "<Figure size 504x432 with 3 Axes>"
      ]
     },
     "metadata": {
      "needs_background": "light",
      "tags": []
     },
     "output_type": "display_data"
    }
   ],
   "source": [
    "fi, (ax1, ax2, ax3) = plt.subplots(1, 3)\n",
    "ax1.imshow(gamma_fun(img, 0.5), cmap = plt.cm.gray, vmin= 0 , vmax = 255)\n",
    "ax1.axis('off')\n",
    "ax2.imshow(gamma_fun(img, 1.0), cmap = plt.cm.gray, vmin= 0 , vmax = 255)\n",
    "ax2.axis('off')\n",
    "ax3.imshow(gamma_fun(img, 2.0), cmap = plt.cm.gray, vmin= 0 , vmax = 255)\n",
    "ax3.axis('off')\n",
    "plt.show()"
   ]
  },
  {
   "cell_type": "markdown",
   "metadata": {
    "colab_type": "text",
    "id": "eVtCDKZHZcLM"
   },
   "source": [
    "__Bravo! Vous avez fini le TD!__\n",
    "***\n",
    "\n",
    "# Recap\n",
    "\n",
    "## Modules\n",
    "1. Numpy et Matplotlib vous permettent de faire du calcul directement sur des matrices / vecteurs et d'afficher image et courbes. \n",
    "2. Attention aux types quand on fait des manipulations. Toujours basculer dans un type qui peut accueillir les calculs sans overflow. \n",
    "3. L'utilisation de **?** pour obtenir de l'aide.\n",
    "\n",
    "## Manipulations de luminosité et contraste\n",
    "1. Ajouter une constante modifie la luminosité d'autant.\n",
    "2. Multiplier par une constante modifie le contraste d'autant.\n",
    "3. Quand on applique un fonction non-linéaire, là ou sa dérivée est > 1 les contrastes sont augmentés, là où elle est < 1 les contrastes sont diminués (comprimés). Cela permet de comprendre l'impact des sigmoides et gamma par exemple.\n",
    "4. La sigmoide permet de modifier facilement contraste et luminosité de manière indépendante. \n",
    "5. La correction $\\gamma$ permet d'amplifier les contrastes aux bas niveaux ($\\gamma < 1$ - cas le plus utilisé), ou aux hauts niveaux ($\\gamma$ > 1).\n",
    "\n",
    "## Pour aller plus loin\n",
    "Les méthodes globales comme celles-ci permettent de faire un certain nombre manipulations sur les images mais ne sont pas assez flexibles pour atteindre les objectifs que nous nous sommes fixés pour ce cours. Nous verrons, dans quelques TDs, des méthodes dites locales qui nous permettrons d'aller plus loin. \n"
   ]
  }
 ],
 "metadata": {
  "colab": {
   "collapsed_sections": [],
   "name": "TD1 - Global ops - Etudiants 2019.ipynb",
   "provenance": []
  },
  "kernelspec": {
   "display_name": "Python 3",
   "language": "python",
   "name": "python3"
  },
  "language_info": {
   "codemirror_mode": {
    "name": "ipython",
    "version": 3
   },
   "file_extension": ".py",
   "mimetype": "text/x-python",
   "name": "python",
   "nbconvert_exporter": "python",
   "pygments_lexer": "ipython3",
   "version": "3.8.0"
  }
 },
 "nbformat": 4,
 "nbformat_minor": 1
}
